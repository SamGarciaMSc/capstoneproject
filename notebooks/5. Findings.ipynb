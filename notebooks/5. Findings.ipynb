{
 "cells": [
  {
   "cell_type": "markdown",
   "id": "4877aed8",
   "metadata": {},
   "source": [
    "# Not Just Another Genre Predictor - Supervised and Unsupervised Learning Algorithms for Genre Classification\n",
    "\n",
    "**<span style=\"color:CornflowerBlue\">by Samantha Garcia, Brainstation Data Science Student (May - August 2022) </span>**\n",
    "\n",
    "## Notebook 5: Findings\n",
    "\n",
    "### Table of Contents\n",
    "\n",
    "1. Recap<br>\n",
    "    1.1 [Business and Machine Learning Questions](#1.1)<br>\n",
    "    1.2 [Modeling Expectations](#1.2)<br>\n",
    "    1.3 [Feature Dictionary](#1.3)<br>\n",
    "    1.4 [Imports and Scaling](#1.4)<br>\n",
    "    \n",
    "    \n",
    "2. Supervised vs Unsupervised Learning and Genre Prediction<br>\n",
    "    2.1 [Intention](#2.1)<br>\n",
    "    2.2 [Expectation](#2.2)<br>\n",
    "    2.3 [Outcome](#2.3)<br>\n",
    "    \n",
    "    \n",
    "3. Interpretation of Clustering Result<br>\n",
    "    3.1 [Visualing the Clusters](#3.1)<br>\n",
    "    3.2 [Understanding the Clusters](#3.2)<br>\n",
    "    3.2.1 [Cluster 0](#3.2.1)<br>\n",
    "    3.2.2 [Cluster 1](#3.2.2)<br>\n",
    "    3.3.3 [Cluster 2](#3.2.3)<br>\n",
    "    3.3.4 [Cluster 3](#3.2.4)<br>\n",
    "\n",
    "\n",
    "4. [Conclusion](#4)<br>\n",
    "        \n",
    "---"
   ]
  },
  {
   "cell_type": "markdown",
   "id": "9ec18bcd",
   "metadata": {},
   "source": [
    "## 1. Recap\n",
    "\n",
    "### 1.1 Business and Machine Learning Questions  <a id=\"1.1\"></a>\n",
    "\n",
    "#### Business Question\n",
    "\n",
    ">Can we predict a song's popularity (and therefore value) based on its attributes\n",
    "\n",
    "This is a limited measurement without access to more granular information such as geographical consumption metrics, social media penetration, etc.\n",
    "\n",
    "We will work on a starter model focusing initially on song attribute clustering and genre analysis with a view to further development in the future to layer on value metrics, given access to the more granular information mentioned above and below.\n",
    "\n",
    "**Creating a tool that can classify any given song into a genre or attribute-based cluster is a good first step in this direction. Which leads us to the Machine Learning Question:**\n",
    "\n",
    "#### Machine Learning Question\n",
    "\n",
    ">Can we derive song FEATURE PROFILES (by inspecting the song's audio attributes derived by Spotify) and ascribe VALUE to individual song features or FEATURE PROFILES\n",
    "\n",
    "Often, songs are given a genre subjectively by music managers' opinion or songs carry genres from the Artists' genre identity, Developing an in-house model for categorising genre based on attributes, then layering on a popularity or value measure, can be of value particularly when tailored for use alongside private data held by the song copyright owners.\n",
    "\n",
    "**We will implement 2 learning algorithms as follows:**\n",
    "\n",
    "1. a supervised learning model where we tell the algorithm what genres the songs belong to, based on subjective 'human' genre labels - the aim here is to build a tool whereby any user can upload a song and be told what genre the song belongs to\n",
    "\n",
    "\n",
    "2. an unsupervised learning model where we ask the algorithm to cluster songs based on their attributes, without seeing the songs' existing genre labels - the aim here is to ignore conventional genre labels and create a tool where songs are grouped based on machine-derived feature profiles and are given VALUE IMPORTANCE based on clearly identifiable clusters\n",
    "\n",
    "**A secondary goal from implementing the two models will be:**\n",
    "\n",
    "3. can we define the song clusters in a way that is understandable to the average human music listener? we could cross reference the cluster outputs from the unsupervised algorithm against the genre classes from the supervised learning algorithm to deteremine whether any of the genres are 'natural' genres or not\n",
    "\n",
    "### 1.2 Modeling Expectations  <a id=\"1.2\"></a>\n",
    "\n",
    "For the supervised learning algorithm we will perform hyperparamter optimisation and model selection to choose a best fit model for multiclass classification. We will build a pipeline and perform grid search, and apply scaling to transform the data within the pipeline. Grid search will implement a 5 fold cross validation as default, we will optimise for that within the pipeline also.\n",
    "\n",
    "We will NOT use PCA as we believe the dataset has a small enough number of features - runtime may be more efficient with PCA but feature importance will be eaier to measure from our best estimators without appying PCA. If we find our models take prohibitively long to run then we will reconsider.\n",
    "\n",
    "The models we will look at are:\n",
    "\n",
    "- Logistic Regression (baseline)\n",
    "- KNN\n",
    "- SVM (multiclass)\n",
    "- Random Forests\n",
    "\n",
    "For the unsupervised learning algorithm we will look at 3 clustering methods to see which is the best fit for our dataset:\n",
    "\n",
    "- K-Means\n",
    "- DBSCAN\n",
    "- Hierarchical Clustering\n",
    "\n",
    "If we have time we will also look at how Neural Networks perform at classifying our songs.\n",
    "\n",
    "**Expected outcomes:**\n",
    "\n",
    "We expect that supervised learning will be challenged to correctly predict genre as there is much crossover across contemporary genres - we expect the unsupervised models to provide more interesting results and find clusters that can be interpreted and defined based on song types.\n",
    "\n",
    "These clusters can then be combined with our metrics in future iterations of this project to:\n",
    "\n",
    "- understand how value is created across song clusters\n",
    "- help in deciding how to exploit any given song (by seeing which cluster it falls into and placing it in suitable mediums for exploitation)\n",
    "\n",
    "... and much more.\n",
    "\n",
    "We expect classical music, EDM and other contemporary genres to be identifiable separately as they are conceptually quite different from each other as groups.\n",
    "\n",
    "\n",
    "### 1.3 Feature Dictionary  <a id=\"1.3\"></a>\n",
    "\n",
    "Let's revisit our data dictionary, focusing on the features we will analyse for the above models.\n",
    "\n",
    "<table>\n",
    "  <tr>\n",
    "    <th style=\"text-align: left; background: lightgrey\">Column Name</th>\n",
    "    <th style=\"text-align: left; background: lightgrey\">Column Contents</th>\n",
    "  </tr>\n",
    "  <tr>\n",
    "    <td style=\"text-align: left\"> <code>song_name</code> </td>\n",
    "    <td style=\"text-align: left\">Name of Song</td>\n",
    "  </tr>\n",
    "  <tr>\n",
    "    <td style=\"text-align: left\"><code>danceability</code></td>\n",
    "    <td style=\"text-align: left\">Describes how suitable a track is for dancing based on a combination of musical elements including temppo, rhythm stability, beat stregth and overall regularity. A value of 0.0 is least danceable and 1.0 is most danceable.</td>\n",
    "  </tr>\n",
    "  <tr>\n",
    "    <td style=\"text-align: left\"><code>energy</code></td>\n",
    "    <td style=\"text-align: left\">Energy is a measure from 0.0 to 1.0 and represents a perceptual measure of intensity and activity. Typically, energetic tracks feel fast, loud and noisy. For example, death metal has high energy while a Bach prelude scores low on the scale. Perceptual features contribuiting to this attribute include dynamic range, perceived loudness, timbre, onset rate and general entropy.</td>\n",
    "  </tr>\n",
    "  <tr>\n",
    "    <td style=\"text-align: left\"><code>key</code></td>\n",
    "    <td style=\"text-align: left\">The key the track is in. Integers map to pitches using standard Pitch Class notation. E.g. 0 = C, 1 = C♯/D♭, 2 = D, and so on. If no key was detected, the value is -1.</td>\n",
    "  </tr>\n",
    "  <tr>\n",
    "    <td style=\"text-align: left\"><code>loudness</code></td>\n",
    "    <td style=\"text-align: left\">The overall loudness of a track in decibels (dB). Loudness values are averaged across the entire track and are useful for comparing relative loudness of tracks. Loudness is the quality of a sound that is the primary psychological correlate of physical strength (amplitude). Values typically range between -60 and 0 db.</td>\n",
    "  </tr>\n",
    "  <tr>\n",
    "    <td style=\"text-align: left\"><code>mode</code></td>\n",
    "    <td style=\"text-align: left\">Mode indicates the modality (major or minor) of a track, the type of scale from which its melodic content is derived. Major is represented by 1 and minor is 0.</td>\n",
    "  </tr>\n",
    "  <tr>\n",
    "    <td style=\"text-align: left\"><code>speechiness</code></td>\n",
    "    <td style=\"text-align: left\">Speechiness detects the presence of spoken words in a track. The more exclusively speech-like the recording (e.g. talk show, audio book, poetry), the closer to 1.0 the attribute value. Values above 0.66 describe tracks that are probably made entirely of spoken words. Values between 0.33 and 0.66 describe tracks that may contain both music and speech, either in sections or layered, including such cases as rap music. Values below 0.33 most likely represent music and other non-speech-like tracks.</td>\n",
    "  </tr>\n",
    "  <tr>\n",
    "    <td style=\"text-align: left\"><code>acousticness</code></td>\n",
    "    <td style=\"text-align: left\">number A confidence measure from 0.0 to 1.0 of whether the track is acoustic. 1.0 represents high confidence the track is acoustic.</td>\n",
    "  </tr>\n",
    "  <tr>\n",
    "    <td style=\"text-align: left\"><code>instrumentalness</code></td>\n",
    "    <td style=\"text-align: left\">Predicts whether a track contains no vocals. \"Ooh\" and \"aah\" sounds are treated as instrumental in this context. Rap or spoken word tracks are clearly \"vocal\". The closer the instrumentalness value is to 1.0, the greater likelihood the track contains no vocal content. Values above 0.5 are intended to represent instrumental tracks, but confidence is higher as the value approaches 1.0.</td>\n",
    "  </tr>\n",
    "  <tr>\n",
    "    <td style=\"text-align: left\"><code>liveness</code></td>\n",
    "    <td style=\"text-align: left\">Detects the presence of an audience in the recording. Higher liveness values represent an increased probability that the track was performed live. A value above 0.8 provides strong likelihood that the track is live.</td>\n",
    "  </tr>\n",
    "  <tr>\n",
    "    <td style=\"text-align: left\"><code>valence</code></td>\n",
    "    <td style=\"text-align: left\">A measure from 0.0 to 1.0 describing the musical positiveness conveyed by a track. Tracks with high valence sound more positive (e.g. happy, cheerful, euphoric), while tracks with low valence sound more negative (e.g. sad, depressed, angry).</td>\n",
    "  </tr>\n",
    "  <tr>\n",
    "    <td style=\"text-align: left\"><code>tempo</code></td>\n",
    "    <td style=\"text-align: left\">The overall estimated tempo of a track in beats per minute (BPM). In musical terminology, tempo is the speed or pace of a given piece and derives directly from the average beat duration. </td>\n",
    "  </tr>\n",
    "  <tr>\n",
    "    <td style=\"text-align: left\"><code>id</code></td>\n",
    "    <td style=\"text-align: left\">The Spotify ID for the track. This is our unique identifier, consider making this the index.</td>\n",
    "  </tr>\n",
    "  <tr>\n",
    "    <td style=\"text-align: left\"><code>uri</code></td>\n",
    "    <td style=\"text-align: left\">The Spotify URI for the track. A Spotify URI is a unique resource indicator code (and link) for music on their platform. It is a link to directly share your songs to fans.</td>\n",
    "  </tr>\n",
    "  <tr>\n",
    "    <td style=\"text-align: left\"><code>track_href</code></td>\n",
    "    <td style=\"text-align: left\">A link to the Web API endpoint providing full details of the track.</td>\n",
    "  </tr>\n",
    "  <tr>\n",
    "    <td style=\"text-align: left\"><code>analysis_url</code></td>\n",
    "    <td style=\"text-align: left\">A URL to access the full audio analysis of this track. An access token is required to access this data.</td>\n",
    "  </tr>\n",
    "  <tr>\n",
    "    <td style=\"text-align: left\"><code>duration_ms</code></td>\n",
    "    <td style=\"text-align: left\">The duration of the track in milliseconds.</td>\n",
    "  </tr>\n",
    "      <tr>\n",
    "    <td style=\"text-align: left\"><code>time_signature</code></td>\n",
    "    <td style=\"text-align: left\">An estimated time signature. The time signature (meter) is a notational convention to specify how many beats are in each bar (or measure). The time signature ranges from 3 to 7 indicating time signatures of \"3/4\", to \"7/4\".</td>\n",
    "  </tr>\n",
    "          <tr>\n",
    "    <td style=\"text-align: left\"><code>genre</code></td>\n",
    "    <td style=\"text-align: left\">Subjective genre given to each group of songs based on user perception.</td>\n",
    "  </tr>\n",
    "</table>\n",
    "\n",
    "The dataset currently contains columns we won't be using for analysis, which we will drop when we perform feature selction below.\n",
    "\n",
    "---"
   ]
  },
  {
   "cell_type": "markdown",
   "id": "6d2b86cb",
   "metadata": {},
   "source": [
    "## 2. Supervised v Unsupervised Learning and Genre Prediction\n",
    "\n",
    "### 2.1 Intention   <a id=\"2.1\"></a>\n",
    "\n",
    "The project started with a wider Machine Learning Question that goes beyond this project:\n",
    "\n",
    "Can we derive song FEATURE PROFILES (by inspecting the song's audio attributes derived by Spotify **THIS PROJECT**) and ascribe VALUE to individual song features or FEATURE PROFILES **(FUTURE ITERATION USING PRIVATE DATA)**.\n",
    "\n",
    "**This one question led to 2 parts to be looked at within this project:**\n",
    "\n",
    "1. a supervised learning model where we tell the algorithm what genres the songs belong to, based on subjective 'human' genre labels - the aim here is to build a tool whereby any user can upload a song and be told what genre the song belongs to\n",
    "\n",
    "\n",
    "2. an unsupervised learning model where we ask the algorithm to cluster songs based on their attributes, without seeing the songs' existing genre labels - the aim here is to ignore conventional genre labels and create a tool where songs are grouped based on machine-derived feature profiles and are given VALUE IMPORTANCE based on clearly identifiable clusters\n",
    "\n",
    "**And a secondary goal from implementing the two models:**\n",
    "\n",
    "3. can we define the song clusters in a way that is understandable to the average human music listener? we could cross reference the cluster outputs from the unsupervised algorithm against the genre classes from the supervised learning algorithm to deteremine whether any of the genres are 'natural' genres or not\n",
    "\n",
    "### 2.2 Expectation   <a id=\"2.2\"></a>\n",
    "\n",
    "We expect that supervised learning will be challenged to correctly predict genre as there is much crossover across contemporary genres - we expect the unsupervised models to provide more interesting results and find clusters that can be interpreted and defined based on song types.\n",
    "\n",
    "We expect classical music, EDM and other contemporary genres to be identifiable separately as they are conceptually quite different from each other as groups.\n",
    "\n",
    "There was also an expectation that more features would be required to truly get interesting results.\n",
    "\n",
    "### 2.3 Outcome   <a id=\"2.3\"></a>\n",
    "\n",
    "1. **Supervised learning model** - these models were indeed challenging to get good results from. They performed overall very similarly to each other with overall accuracy maxing out at 63%\n",
    "\n",
    "\n",
    "<img src=\"../images/supervised_results.png\" width=\"400\" height=\"400\">\n",
    "\n",
    "    Precision and recall were good for classical music and EDM was also better than the rest, **which met our expectation**.\n",
    "    \n",
    "    Pop, rock, rap/hiphop and latin were confused with each other in all of the superviesd model types\n",
    "    \n",
    "<img src=\"../images/confusion_matrix.png\" width=\"400\" height=\"400\">\n",
    "\n",
    "We found 4 features that were more important than others in prediciting genre, which are in line with the important features we found in our unsupervised modeling, discussed in detail in the sections below. The following graph is the Random Forests model feature importance:\n",
    "\n",
    "<img src=\"../images/feature_importance.png\" width=\"400\" height=\"400\">\n",
    "    \n",
    "    Supervised learning found it difficult to predict human genre tags - the conclusion is that there is something cultural that defines these contemporary genres outside of song features - features that capture this cultural aspect could be used to enhance this modelling in the future, and would ideally include indicators such as typical demographic audience (perhaps geographical location, average age, social media metrics, synch information (games, films, tv shows the songs are used in), vintage, etc\n",
    "    \n",
    "2. **Unsupervised Learning** - the unsupervised learning algorithms performed better at categorising the songs we found 4 distinct clusters which are analysed in more detail below.\n",
    "\n",
    "Questions 3 above asked if we would be able to define the clusters in a way that is understandable to the average human music listener and could we cross reference the clusters against 'human' genre classes - we manage to do that in the sections below."
   ]
  },
  {
   "cell_type": "code",
   "execution_count": 101,
   "id": "e7a9dcf6",
   "metadata": {},
   "outputs": [],
   "source": [
    "# import required packages\n",
    "# packages will be added here as they come up during coding\n",
    "# this is therefore a complete list of all packages used within this notebook\n",
    "import numpy as np\n",
    "import pandas as pd\n",
    "import matplotlib.pyplot as plt\n",
    "import seaborn as sns\n",
    "from scipy import stats\n",
    "\n",
    "import webbrowser\n",
    "from pivottablejs import pivot_ui\n",
    "import qgrid"
   ]
  },
  {
   "cell_type": "code",
   "execution_count": 102,
   "id": "894ec85d",
   "metadata": {},
   "outputs": [],
   "source": [
    "# import dfs from last notebook (4.a. clustering part 1)\n",
    "# notebook couldn't handle everything in one so have had to split\n",
    "feature_means_kmeans = pd.read_csv('../data/feature_means_kmeans.csv', index_col=0)\n",
    "kmeans_df = pd.read_csv('../data/kmeans_df.csv', index_col=0)"
   ]
  },
  {
   "cell_type": "code",
   "execution_count": 103,
   "id": "0163e0b8",
   "metadata": {
    "scrolled": false
   },
   "outputs": [
    {
     "data": {
      "text/html": [
       "<div>\n",
       "<style scoped>\n",
       "    .dataframe tbody tr th:only-of-type {\n",
       "        vertical-align: middle;\n",
       "    }\n",
       "\n",
       "    .dataframe tbody tr th {\n",
       "        vertical-align: top;\n",
       "    }\n",
       "\n",
       "    .dataframe thead th {\n",
       "        text-align: right;\n",
       "    }\n",
       "</style>\n",
       "<table border=\"1\" class=\"dataframe\">\n",
       "  <thead>\n",
       "    <tr style=\"text-align: right;\">\n",
       "      <th></th>\n",
       "      <th>kmeans_labels</th>\n",
       "      <th>acousticness</th>\n",
       "      <th>danceability</th>\n",
       "      <th>instrumentalness</th>\n",
       "      <th>key</th>\n",
       "      <th>liveness</th>\n",
       "      <th>mode</th>\n",
       "      <th>speechiness</th>\n",
       "      <th>tempo</th>\n",
       "      <th>time_signature</th>\n",
       "      <th>valence</th>\n",
       "      <th>EAL</th>\n",
       "    </tr>\n",
       "  </thead>\n",
       "  <tbody>\n",
       "    <tr>\n",
       "      <th>0</th>\n",
       "      <td>0</td>\n",
       "      <td>0.288034</td>\n",
       "      <td>0.564322</td>\n",
       "      <td>0.039570</td>\n",
       "      <td>0.555005</td>\n",
       "      <td>0.211254</td>\n",
       "      <td>0.0</td>\n",
       "      <td>0.092548</td>\n",
       "      <td>0.409418</td>\n",
       "      <td>0.729124</td>\n",
       "      <td>0.517556</td>\n",
       "      <td>0.734248</td>\n",
       "    </tr>\n",
       "    <tr>\n",
       "      <th>1</th>\n",
       "      <td>1</td>\n",
       "      <td>0.147872</td>\n",
       "      <td>0.568631</td>\n",
       "      <td>0.189231</td>\n",
       "      <td>0.432278</td>\n",
       "      <td>0.214150</td>\n",
       "      <td>1.0</td>\n",
       "      <td>0.077771</td>\n",
       "      <td>0.427052</td>\n",
       "      <td>0.736055</td>\n",
       "      <td>0.524864</td>\n",
       "      <td>0.719720</td>\n",
       "    </tr>\n",
       "    <tr>\n",
       "      <th>2</th>\n",
       "      <td>2</td>\n",
       "      <td>0.850929</td>\n",
       "      <td>0.392597</td>\n",
       "      <td>0.385575</td>\n",
       "      <td>0.448382</td>\n",
       "      <td>0.178991</td>\n",
       "      <td>1.0</td>\n",
       "      <td>0.037475</td>\n",
       "      <td>0.365865</td>\n",
       "      <td>0.688073</td>\n",
       "      <td>0.329352</td>\n",
       "      <td>0.777741</td>\n",
       "    </tr>\n",
       "    <tr>\n",
       "      <th>3</th>\n",
       "      <td>3</td>\n",
       "      <td>0.424023</td>\n",
       "      <td>0.472853</td>\n",
       "      <td>0.787659</td>\n",
       "      <td>0.542847</td>\n",
       "      <td>0.170446</td>\n",
       "      <td>0.0</td>\n",
       "      <td>0.041861</td>\n",
       "      <td>0.399268</td>\n",
       "      <td>0.713479</td>\n",
       "      <td>0.332350</td>\n",
       "      <td>0.726969</td>\n",
       "    </tr>\n",
       "  </tbody>\n",
       "</table>\n",
       "</div>"
      ],
      "text/plain": [
       "   kmeans_labels  acousticness  danceability  instrumentalness       key  \\\n",
       "0              0      0.288034      0.564322          0.039570  0.555005   \n",
       "1              1      0.147872      0.568631          0.189231  0.432278   \n",
       "2              2      0.850929      0.392597          0.385575  0.448382   \n",
       "3              3      0.424023      0.472853          0.787659  0.542847   \n",
       "\n",
       "   liveness  mode  speechiness     tempo  time_signature   valence       EAL  \n",
       "0  0.211254   0.0     0.092548  0.409418        0.729124  0.517556  0.734248  \n",
       "1  0.214150   1.0     0.077771  0.427052        0.736055  0.524864  0.719720  \n",
       "2  0.178991   1.0     0.037475  0.365865        0.688073  0.329352  0.777741  \n",
       "3  0.170446   0.0     0.041861  0.399268        0.713479  0.332350  0.726969  "
      ]
     },
     "execution_count": 103,
     "metadata": {},
     "output_type": "execute_result"
    }
   ],
   "source": [
    "feature_means_kmeans"
   ]
  },
  {
   "cell_type": "markdown",
   "id": "03b43b8f",
   "metadata": {},
   "source": [
    "## 3 Interpretation of Clustering Result"
   ]
  },
  {
   "cell_type": "markdown",
   "id": "526a9c3a",
   "metadata": {},
   "source": [
    "### 3.1 Visualising the Clusters   <a id=\"3.1\"></a>"
   ]
  },
  {
   "cell_type": "code",
   "execution_count": 104,
   "id": "32f3ada7",
   "metadata": {
    "scrolled": false
   },
   "outputs": [
    {
     "data": {
      "text/html": [
       "<div>\n",
       "<style scoped>\n",
       "    .dataframe tbody tr th:only-of-type {\n",
       "        vertical-align: middle;\n",
       "    }\n",
       "\n",
       "    .dataframe tbody tr th {\n",
       "        vertical-align: top;\n",
       "    }\n",
       "\n",
       "    .dataframe thead th {\n",
       "        text-align: right;\n",
       "    }\n",
       "</style>\n",
       "<table border=\"1\" class=\"dataframe\">\n",
       "  <thead>\n",
       "    <tr style=\"text-align: right;\">\n",
       "      <th></th>\n",
       "      <th>kmeans_labels</th>\n",
       "      <th>category</th>\n",
       "      <th>score</th>\n",
       "    </tr>\n",
       "  </thead>\n",
       "  <tbody>\n",
       "    <tr>\n",
       "      <th>0</th>\n",
       "      <td>0</td>\n",
       "      <td>acousticness</td>\n",
       "      <td>0.288034</td>\n",
       "    </tr>\n",
       "    <tr>\n",
       "      <th>4</th>\n",
       "      <td>0</td>\n",
       "      <td>danceability</td>\n",
       "      <td>0.564322</td>\n",
       "    </tr>\n",
       "    <tr>\n",
       "      <th>8</th>\n",
       "      <td>0</td>\n",
       "      <td>instrumentalness</td>\n",
       "      <td>0.039570</td>\n",
       "    </tr>\n",
       "    <tr>\n",
       "      <th>12</th>\n",
       "      <td>0</td>\n",
       "      <td>key</td>\n",
       "      <td>0.555005</td>\n",
       "    </tr>\n",
       "    <tr>\n",
       "      <th>16</th>\n",
       "      <td>0</td>\n",
       "      <td>liveness</td>\n",
       "      <td>0.211254</td>\n",
       "    </tr>\n",
       "    <tr>\n",
       "      <th>20</th>\n",
       "      <td>0</td>\n",
       "      <td>mode</td>\n",
       "      <td>0.000000</td>\n",
       "    </tr>\n",
       "    <tr>\n",
       "      <th>24</th>\n",
       "      <td>0</td>\n",
       "      <td>speechiness</td>\n",
       "      <td>0.092548</td>\n",
       "    </tr>\n",
       "    <tr>\n",
       "      <th>28</th>\n",
       "      <td>0</td>\n",
       "      <td>tempo</td>\n",
       "      <td>0.409418</td>\n",
       "    </tr>\n",
       "    <tr>\n",
       "      <th>32</th>\n",
       "      <td>0</td>\n",
       "      <td>time_signature</td>\n",
       "      <td>0.729124</td>\n",
       "    </tr>\n",
       "    <tr>\n",
       "      <th>36</th>\n",
       "      <td>0</td>\n",
       "      <td>valence</td>\n",
       "      <td>0.517556</td>\n",
       "    </tr>\n",
       "    <tr>\n",
       "      <th>40</th>\n",
       "      <td>0</td>\n",
       "      <td>EAL</td>\n",
       "      <td>0.734248</td>\n",
       "    </tr>\n",
       "  </tbody>\n",
       "</table>\n",
       "</div>"
      ],
      "text/plain": [
       "    kmeans_labels          category     score\n",
       "0               0      acousticness  0.288034\n",
       "4               0      danceability  0.564322\n",
       "8               0  instrumentalness  0.039570\n",
       "12              0               key  0.555005\n",
       "16              0          liveness  0.211254\n",
       "20              0              mode  0.000000\n",
       "24              0       speechiness  0.092548\n",
       "28              0             tempo  0.409418\n",
       "32              0    time_signature  0.729124\n",
       "36              0           valence  0.517556\n",
       "40              0               EAL  0.734248"
      ]
     },
     "execution_count": 104,
     "metadata": {},
     "output_type": "execute_result"
    }
   ],
   "source": [
    "# Convert from wide data to long data to plot radar chart\n",
    "df = pd.melt(\n",
    "    feature_means_kmeans, \n",
    "    id_vars=['kmeans_labels'], \n",
    "    var_name='category', \n",
    "    value_name='score',\n",
    "    value_vars=['acousticness', 'danceability', 'instrumentalness', 'key', 'liveness', 'mode', 'speechiness', 'tempo', 'time_signature', 'valence', 'EAL']\n",
    ")\n",
    "# check conversion for the first cluster\n",
    "df[df.kmeans_labels == 0]"
   ]
  },
  {
   "cell_type": "code",
   "execution_count": 105,
   "id": "8a7b9cf7",
   "metadata": {
    "scrolled": false
   },
   "outputs": [
    {
     "data": {
      "application/vnd.plotly.v1+json": {
       "config": {
        "plotlyServerURL": "https://plot.ly"
       },
       "data": [
        {
         "customdata": [
          [
           0
          ],
          [
           0
          ],
          [
           0
          ],
          [
           0
          ],
          [
           0
          ],
          [
           0
          ],
          [
           0
          ],
          [
           0
          ],
          [
           0
          ],
          [
           0
          ],
          [
           0
          ],
          [
           0
          ]
         ],
         "fill": "toself",
         "hovertemplate": "<b>%{hovertext}</b><br><br>Score=%{r}<br>Feature=%{theta}<extra></extra>",
         "hovertext": [
          0,
          0,
          0,
          0,
          0,
          0,
          0,
          0,
          0,
          0,
          0,
          0
         ],
         "legendgroup": "0",
         "line": {
          "color": "#636efa",
          "dash": "solid",
          "shape": "spline"
         },
         "marker": {
          "symbol": "circle"
         },
         "mode": "markers+lines",
         "name": "0",
         "r": [
          0.2880336586114826,
          0.5643215882278507,
          0.0395701724077088,
          0.5550049717715694,
          0.2112537596465113,
          0,
          0.0925479704937222,
          0.4094177967070166,
          0.7291235146625967,
          0.5175559432872731,
          0.734248220731553,
          0.2880336586114826
         ],
         "showlegend": true,
         "subplot": "polar",
         "theta": [
          "acousticness",
          "danceability",
          "instrumentalness",
          "key",
          "liveness",
          "mode",
          "speechiness",
          "tempo",
          "time_signature",
          "valence",
          "EAL",
          "acousticness"
         ],
         "type": "scatterpolar"
        },
        {
         "customdata": [
          [
           1
          ],
          [
           1
          ],
          [
           1
          ],
          [
           1
          ],
          [
           1
          ],
          [
           1
          ],
          [
           1
          ],
          [
           1
          ],
          [
           1
          ],
          [
           1
          ],
          [
           1
          ],
          [
           1
          ]
         ],
         "fill": "toself",
         "hovertemplate": "<b>%{hovertext}</b><br><br>Score=%{r}<br>Feature=%{theta}<extra></extra>",
         "hovertext": [
          1,
          1,
          1,
          1,
          1,
          1,
          1,
          1,
          1,
          1,
          1,
          1
         ],
         "legendgroup": "1",
         "line": {
          "color": "#EF553B",
          "dash": "solid",
          "shape": "spline"
         },
         "marker": {
          "symbol": "circle"
         },
         "mode": "markers+lines",
         "name": "1",
         "r": [
          0.1478718226673003,
          0.5686306918333522,
          0.1892312419409004,
          0.4322783607457298,
          0.2141503209490628,
          1,
          0.0777706162249133,
          0.4270523777174345,
          0.7360545151278424,
          0.5248643667936688,
          0.7197202288215109,
          0.1478718226673003
         ],
         "showlegend": true,
         "subplot": "polar",
         "theta": [
          "acousticness",
          "danceability",
          "instrumentalness",
          "key",
          "liveness",
          "mode",
          "speechiness",
          "tempo",
          "time_signature",
          "valence",
          "EAL",
          "acousticness"
         ],
         "type": "scatterpolar"
        },
        {
         "customdata": [
          [
           2
          ],
          [
           2
          ],
          [
           2
          ],
          [
           2
          ],
          [
           2
          ],
          [
           2
          ],
          [
           2
          ],
          [
           2
          ],
          [
           2
          ],
          [
           2
          ],
          [
           2
          ],
          [
           2
          ]
         ],
         "fill": "toself",
         "hovertemplate": "<b>%{hovertext}</b><br><br>Score=%{r}<br>Feature=%{theta}<extra></extra>",
         "hovertext": [
          2,
          2,
          2,
          2,
          2,
          2,
          2,
          2,
          2,
          2,
          2,
          2
         ],
         "legendgroup": "2",
         "line": {
          "color": "#00cc96",
          "dash": "solid",
          "shape": "spline"
         },
         "marker": {
          "symbol": "circle"
         },
         "mode": "markers+lines",
         "name": "2",
         "r": [
          0.8509289456902408,
          0.3925966277352719,
          0.385575086777392,
          0.448382185938747,
          0.1789914202342996,
          1,
          0.0374752068073554,
          0.3658648662481993,
          0.6880728622810071,
          0.3293516693406204,
          0.7777406186018015,
          0.8509289456902408
         ],
         "showlegend": true,
         "subplot": "polar",
         "theta": [
          "acousticness",
          "danceability",
          "instrumentalness",
          "key",
          "liveness",
          "mode",
          "speechiness",
          "tempo",
          "time_signature",
          "valence",
          "EAL",
          "acousticness"
         ],
         "type": "scatterpolar"
        },
        {
         "customdata": [
          [
           3
          ],
          [
           3
          ],
          [
           3
          ],
          [
           3
          ],
          [
           3
          ],
          [
           3
          ],
          [
           3
          ],
          [
           3
          ],
          [
           3
          ],
          [
           3
          ],
          [
           3
          ],
          [
           3
          ]
         ],
         "fill": "toself",
         "hovertemplate": "<b>%{hovertext}</b><br><br>Score=%{r}<br>Feature=%{theta}<extra></extra>",
         "hovertext": [
          3,
          3,
          3,
          3,
          3,
          3,
          3,
          3,
          3,
          3,
          3,
          3
         ],
         "legendgroup": "3",
         "line": {
          "color": "#ab63fa",
          "dash": "solid",
          "shape": "spline"
         },
         "marker": {
          "symbol": "circle"
         },
         "mode": "markers+lines",
         "name": "3",
         "r": [
          0.4240225089417627,
          0.4728531478343961,
          0.7876587732434562,
          0.5428473363563758,
          0.1704458245570343,
          0,
          0.0418606314351423,
          0.3992679395933511,
          0.7134792710375372,
          0.3323501938040211,
          0.7269693519635652,
          0.4240225089417627
         ],
         "showlegend": true,
         "subplot": "polar",
         "theta": [
          "acousticness",
          "danceability",
          "instrumentalness",
          "key",
          "liveness",
          "mode",
          "speechiness",
          "tempo",
          "time_signature",
          "valence",
          "EAL",
          "acousticness"
         ],
         "type": "scatterpolar"
        }
       ],
       "layout": {
        "legend": {
         "title": {
          "text": "kmeans_labels"
         },
         "tracegroupgap": 0
        },
        "margin": {
         "t": 60
        },
        "polar": {
         "angularaxis": {
          "direction": "clockwise",
          "rotation": 90
         },
         "domain": {
          "x": [
           0,
           1
          ],
          "y": [
           0,
           1
          ]
         },
         "radialaxis": {
          "range": [
           0,
           1
          ]
         }
        },
        "template": {
         "data": {
          "bar": [
           {
            "error_x": {
             "color": "#2a3f5f"
            },
            "error_y": {
             "color": "#2a3f5f"
            },
            "marker": {
             "line": {
              "color": "#E5ECF6",
              "width": 0.5
             },
             "pattern": {
              "fillmode": "overlay",
              "size": 10,
              "solidity": 0.2
             }
            },
            "type": "bar"
           }
          ],
          "barpolar": [
           {
            "marker": {
             "line": {
              "color": "#E5ECF6",
              "width": 0.5
             },
             "pattern": {
              "fillmode": "overlay",
              "size": 10,
              "solidity": 0.2
             }
            },
            "type": "barpolar"
           }
          ],
          "carpet": [
           {
            "aaxis": {
             "endlinecolor": "#2a3f5f",
             "gridcolor": "white",
             "linecolor": "white",
             "minorgridcolor": "white",
             "startlinecolor": "#2a3f5f"
            },
            "baxis": {
             "endlinecolor": "#2a3f5f",
             "gridcolor": "white",
             "linecolor": "white",
             "minorgridcolor": "white",
             "startlinecolor": "#2a3f5f"
            },
            "type": "carpet"
           }
          ],
          "choropleth": [
           {
            "colorbar": {
             "outlinewidth": 0,
             "ticks": ""
            },
            "type": "choropleth"
           }
          ],
          "contour": [
           {
            "colorbar": {
             "outlinewidth": 0,
             "ticks": ""
            },
            "colorscale": [
             [
              0,
              "#0d0887"
             ],
             [
              0.1111111111111111,
              "#46039f"
             ],
             [
              0.2222222222222222,
              "#7201a8"
             ],
             [
              0.3333333333333333,
              "#9c179e"
             ],
             [
              0.4444444444444444,
              "#bd3786"
             ],
             [
              0.5555555555555556,
              "#d8576b"
             ],
             [
              0.6666666666666666,
              "#ed7953"
             ],
             [
              0.7777777777777778,
              "#fb9f3a"
             ],
             [
              0.8888888888888888,
              "#fdca26"
             ],
             [
              1,
              "#f0f921"
             ]
            ],
            "type": "contour"
           }
          ],
          "contourcarpet": [
           {
            "colorbar": {
             "outlinewidth": 0,
             "ticks": ""
            },
            "type": "contourcarpet"
           }
          ],
          "heatmap": [
           {
            "colorbar": {
             "outlinewidth": 0,
             "ticks": ""
            },
            "colorscale": [
             [
              0,
              "#0d0887"
             ],
             [
              0.1111111111111111,
              "#46039f"
             ],
             [
              0.2222222222222222,
              "#7201a8"
             ],
             [
              0.3333333333333333,
              "#9c179e"
             ],
             [
              0.4444444444444444,
              "#bd3786"
             ],
             [
              0.5555555555555556,
              "#d8576b"
             ],
             [
              0.6666666666666666,
              "#ed7953"
             ],
             [
              0.7777777777777778,
              "#fb9f3a"
             ],
             [
              0.8888888888888888,
              "#fdca26"
             ],
             [
              1,
              "#f0f921"
             ]
            ],
            "type": "heatmap"
           }
          ],
          "heatmapgl": [
           {
            "colorbar": {
             "outlinewidth": 0,
             "ticks": ""
            },
            "colorscale": [
             [
              0,
              "#0d0887"
             ],
             [
              0.1111111111111111,
              "#46039f"
             ],
             [
              0.2222222222222222,
              "#7201a8"
             ],
             [
              0.3333333333333333,
              "#9c179e"
             ],
             [
              0.4444444444444444,
              "#bd3786"
             ],
             [
              0.5555555555555556,
              "#d8576b"
             ],
             [
              0.6666666666666666,
              "#ed7953"
             ],
             [
              0.7777777777777778,
              "#fb9f3a"
             ],
             [
              0.8888888888888888,
              "#fdca26"
             ],
             [
              1,
              "#f0f921"
             ]
            ],
            "type": "heatmapgl"
           }
          ],
          "histogram": [
           {
            "marker": {
             "pattern": {
              "fillmode": "overlay",
              "size": 10,
              "solidity": 0.2
             }
            },
            "type": "histogram"
           }
          ],
          "histogram2d": [
           {
            "colorbar": {
             "outlinewidth": 0,
             "ticks": ""
            },
            "colorscale": [
             [
              0,
              "#0d0887"
             ],
             [
              0.1111111111111111,
              "#46039f"
             ],
             [
              0.2222222222222222,
              "#7201a8"
             ],
             [
              0.3333333333333333,
              "#9c179e"
             ],
             [
              0.4444444444444444,
              "#bd3786"
             ],
             [
              0.5555555555555556,
              "#d8576b"
             ],
             [
              0.6666666666666666,
              "#ed7953"
             ],
             [
              0.7777777777777778,
              "#fb9f3a"
             ],
             [
              0.8888888888888888,
              "#fdca26"
             ],
             [
              1,
              "#f0f921"
             ]
            ],
            "type": "histogram2d"
           }
          ],
          "histogram2dcontour": [
           {
            "colorbar": {
             "outlinewidth": 0,
             "ticks": ""
            },
            "colorscale": [
             [
              0,
              "#0d0887"
             ],
             [
              0.1111111111111111,
              "#46039f"
             ],
             [
              0.2222222222222222,
              "#7201a8"
             ],
             [
              0.3333333333333333,
              "#9c179e"
             ],
             [
              0.4444444444444444,
              "#bd3786"
             ],
             [
              0.5555555555555556,
              "#d8576b"
             ],
             [
              0.6666666666666666,
              "#ed7953"
             ],
             [
              0.7777777777777778,
              "#fb9f3a"
             ],
             [
              0.8888888888888888,
              "#fdca26"
             ],
             [
              1,
              "#f0f921"
             ]
            ],
            "type": "histogram2dcontour"
           }
          ],
          "mesh3d": [
           {
            "colorbar": {
             "outlinewidth": 0,
             "ticks": ""
            },
            "type": "mesh3d"
           }
          ],
          "parcoords": [
           {
            "line": {
             "colorbar": {
              "outlinewidth": 0,
              "ticks": ""
             }
            },
            "type": "parcoords"
           }
          ],
          "pie": [
           {
            "automargin": true,
            "type": "pie"
           }
          ],
          "scatter": [
           {
            "marker": {
             "colorbar": {
              "outlinewidth": 0,
              "ticks": ""
             }
            },
            "type": "scatter"
           }
          ],
          "scatter3d": [
           {
            "line": {
             "colorbar": {
              "outlinewidth": 0,
              "ticks": ""
             }
            },
            "marker": {
             "colorbar": {
              "outlinewidth": 0,
              "ticks": ""
             }
            },
            "type": "scatter3d"
           }
          ],
          "scattercarpet": [
           {
            "marker": {
             "colorbar": {
              "outlinewidth": 0,
              "ticks": ""
             }
            },
            "type": "scattercarpet"
           }
          ],
          "scattergeo": [
           {
            "marker": {
             "colorbar": {
              "outlinewidth": 0,
              "ticks": ""
             }
            },
            "type": "scattergeo"
           }
          ],
          "scattergl": [
           {
            "marker": {
             "colorbar": {
              "outlinewidth": 0,
              "ticks": ""
             }
            },
            "type": "scattergl"
           }
          ],
          "scattermapbox": [
           {
            "marker": {
             "colorbar": {
              "outlinewidth": 0,
              "ticks": ""
             }
            },
            "type": "scattermapbox"
           }
          ],
          "scatterpolar": [
           {
            "marker": {
             "colorbar": {
              "outlinewidth": 0,
              "ticks": ""
             }
            },
            "type": "scatterpolar"
           }
          ],
          "scatterpolargl": [
           {
            "marker": {
             "colorbar": {
              "outlinewidth": 0,
              "ticks": ""
             }
            },
            "type": "scatterpolargl"
           }
          ],
          "scatterternary": [
           {
            "marker": {
             "colorbar": {
              "outlinewidth": 0,
              "ticks": ""
             }
            },
            "type": "scatterternary"
           }
          ],
          "surface": [
           {
            "colorbar": {
             "outlinewidth": 0,
             "ticks": ""
            },
            "colorscale": [
             [
              0,
              "#0d0887"
             ],
             [
              0.1111111111111111,
              "#46039f"
             ],
             [
              0.2222222222222222,
              "#7201a8"
             ],
             [
              0.3333333333333333,
              "#9c179e"
             ],
             [
              0.4444444444444444,
              "#bd3786"
             ],
             [
              0.5555555555555556,
              "#d8576b"
             ],
             [
              0.6666666666666666,
              "#ed7953"
             ],
             [
              0.7777777777777778,
              "#fb9f3a"
             ],
             [
              0.8888888888888888,
              "#fdca26"
             ],
             [
              1,
              "#f0f921"
             ]
            ],
            "type": "surface"
           }
          ],
          "table": [
           {
            "cells": {
             "fill": {
              "color": "#EBF0F8"
             },
             "line": {
              "color": "white"
             }
            },
            "header": {
             "fill": {
              "color": "#C8D4E3"
             },
             "line": {
              "color": "white"
             }
            },
            "type": "table"
           }
          ]
         },
         "layout": {
          "annotationdefaults": {
           "arrowcolor": "#2a3f5f",
           "arrowhead": 0,
           "arrowwidth": 1
          },
          "autotypenumbers": "strict",
          "coloraxis": {
           "colorbar": {
            "outlinewidth": 0,
            "ticks": ""
           }
          },
          "colorscale": {
           "diverging": [
            [
             0,
             "#8e0152"
            ],
            [
             0.1,
             "#c51b7d"
            ],
            [
             0.2,
             "#de77ae"
            ],
            [
             0.3,
             "#f1b6da"
            ],
            [
             0.4,
             "#fde0ef"
            ],
            [
             0.5,
             "#f7f7f7"
            ],
            [
             0.6,
             "#e6f5d0"
            ],
            [
             0.7,
             "#b8e186"
            ],
            [
             0.8,
             "#7fbc41"
            ],
            [
             0.9,
             "#4d9221"
            ],
            [
             1,
             "#276419"
            ]
           ],
           "sequential": [
            [
             0,
             "#0d0887"
            ],
            [
             0.1111111111111111,
             "#46039f"
            ],
            [
             0.2222222222222222,
             "#7201a8"
            ],
            [
             0.3333333333333333,
             "#9c179e"
            ],
            [
             0.4444444444444444,
             "#bd3786"
            ],
            [
             0.5555555555555556,
             "#d8576b"
            ],
            [
             0.6666666666666666,
             "#ed7953"
            ],
            [
             0.7777777777777778,
             "#fb9f3a"
            ],
            [
             0.8888888888888888,
             "#fdca26"
            ],
            [
             1,
             "#f0f921"
            ]
           ],
           "sequentialminus": [
            [
             0,
             "#0d0887"
            ],
            [
             0.1111111111111111,
             "#46039f"
            ],
            [
             0.2222222222222222,
             "#7201a8"
            ],
            [
             0.3333333333333333,
             "#9c179e"
            ],
            [
             0.4444444444444444,
             "#bd3786"
            ],
            [
             0.5555555555555556,
             "#d8576b"
            ],
            [
             0.6666666666666666,
             "#ed7953"
            ],
            [
             0.7777777777777778,
             "#fb9f3a"
            ],
            [
             0.8888888888888888,
             "#fdca26"
            ],
            [
             1,
             "#f0f921"
            ]
           ]
          },
          "colorway": [
           "#636efa",
           "#EF553B",
           "#00cc96",
           "#ab63fa",
           "#FFA15A",
           "#19d3f3",
           "#FF6692",
           "#B6E880",
           "#FF97FF",
           "#FECB52"
          ],
          "font": {
           "color": "#2a3f5f"
          },
          "geo": {
           "bgcolor": "white",
           "lakecolor": "white",
           "landcolor": "#E5ECF6",
           "showlakes": true,
           "showland": true,
           "subunitcolor": "white"
          },
          "hoverlabel": {
           "align": "left"
          },
          "hovermode": "closest",
          "mapbox": {
           "style": "light"
          },
          "paper_bgcolor": "white",
          "plot_bgcolor": "#E5ECF6",
          "polar": {
           "angularaxis": {
            "gridcolor": "white",
            "linecolor": "white",
            "ticks": ""
           },
           "bgcolor": "#E5ECF6",
           "radialaxis": {
            "gridcolor": "white",
            "linecolor": "white",
            "ticks": ""
           }
          },
          "scene": {
           "xaxis": {
            "backgroundcolor": "#E5ECF6",
            "gridcolor": "white",
            "gridwidth": 2,
            "linecolor": "white",
            "showbackground": true,
            "ticks": "",
            "zerolinecolor": "white"
           },
           "yaxis": {
            "backgroundcolor": "#E5ECF6",
            "gridcolor": "white",
            "gridwidth": 2,
            "linecolor": "white",
            "showbackground": true,
            "ticks": "",
            "zerolinecolor": "white"
           },
           "zaxis": {
            "backgroundcolor": "#E5ECF6",
            "gridcolor": "white",
            "gridwidth": 2,
            "linecolor": "white",
            "showbackground": true,
            "ticks": "",
            "zerolinecolor": "white"
           }
          },
          "shapedefaults": {
           "line": {
            "color": "#2a3f5f"
           }
          },
          "ternary": {
           "aaxis": {
            "gridcolor": "white",
            "linecolor": "white",
            "ticks": ""
           },
           "baxis": {
            "gridcolor": "white",
            "linecolor": "white",
            "ticks": ""
           },
           "bgcolor": "#E5ECF6",
           "caxis": {
            "gridcolor": "white",
            "linecolor": "white",
            "ticks": ""
           }
          },
          "title": {
           "x": 0.05
          },
          "xaxis": {
           "automargin": true,
           "gridcolor": "white",
           "linecolor": "white",
           "ticks": "",
           "title": {
            "standoff": 15
           },
           "zerolinecolor": "white",
           "zerolinewidth": 2
          },
          "yaxis": {
           "automargin": true,
           "gridcolor": "white",
           "linecolor": "white",
           "ticks": "",
           "title": {
            "standoff": 15
           },
           "zerolinecolor": "white",
           "zerolinewidth": 2
          }
         }
        }
       }
      },
      "text/html": [
       "<div>                            <div id=\"d3ec4b12-0ca7-4785-a4ae-9002c84ef461\" class=\"plotly-graph-div\" style=\"height:525px; width:100%;\"></div>            <script type=\"text/javascript\">                require([\"plotly\"], function(Plotly) {                    window.PLOTLYENV=window.PLOTLYENV || {};                                    if (document.getElementById(\"d3ec4b12-0ca7-4785-a4ae-9002c84ef461\")) {                    Plotly.newPlot(                        \"d3ec4b12-0ca7-4785-a4ae-9002c84ef461\",                        [{\"customdata\":[[0],[0],[0],[0],[0],[0],[0],[0],[0],[0],[0],[0]],\"hovertemplate\":\"<b>%{hovertext}</b><br><br>Score=%{r}<br>Feature=%{theta}<extra></extra>\",\"hovertext\":[0.0,0.0,0.0,0.0,0.0,0.0,0.0,0.0,0.0,0.0,0.0,0.0],\"legendgroup\":\"0\",\"line\":{\"color\":\"#636efa\",\"dash\":\"solid\",\"shape\":\"spline\"},\"marker\":{\"symbol\":\"circle\"},\"mode\":\"markers+lines\",\"name\":\"0\",\"r\":[0.2880336586114826,0.5643215882278507,0.0395701724077088,0.5550049717715694,0.2112537596465113,0.0,0.0925479704937222,0.4094177967070166,0.7291235146625967,0.5175559432872731,0.734248220731553,0.2880336586114826],\"showlegend\":true,\"subplot\":\"polar\",\"theta\":[\"acousticness\",\"danceability\",\"instrumentalness\",\"key\",\"liveness\",\"mode\",\"speechiness\",\"tempo\",\"time_signature\",\"valence\",\"EAL\",\"acousticness\"],\"type\":\"scatterpolar\",\"fill\":\"toself\"},{\"customdata\":[[1],[1],[1],[1],[1],[1],[1],[1],[1],[1],[1],[1]],\"hovertemplate\":\"<b>%{hovertext}</b><br><br>Score=%{r}<br>Feature=%{theta}<extra></extra>\",\"hovertext\":[1.0,1.0,1.0,1.0,1.0,1.0,1.0,1.0,1.0,1.0,1.0,1.0],\"legendgroup\":\"1\",\"line\":{\"color\":\"#EF553B\",\"dash\":\"solid\",\"shape\":\"spline\"},\"marker\":{\"symbol\":\"circle\"},\"mode\":\"markers+lines\",\"name\":\"1\",\"r\":[0.1478718226673003,0.5686306918333522,0.1892312419409004,0.4322783607457298,0.2141503209490628,1.0,0.0777706162249133,0.4270523777174345,0.7360545151278424,0.5248643667936688,0.7197202288215109,0.1478718226673003],\"showlegend\":true,\"subplot\":\"polar\",\"theta\":[\"acousticness\",\"danceability\",\"instrumentalness\",\"key\",\"liveness\",\"mode\",\"speechiness\",\"tempo\",\"time_signature\",\"valence\",\"EAL\",\"acousticness\"],\"type\":\"scatterpolar\",\"fill\":\"toself\"},{\"customdata\":[[2],[2],[2],[2],[2],[2],[2],[2],[2],[2],[2],[2]],\"hovertemplate\":\"<b>%{hovertext}</b><br><br>Score=%{r}<br>Feature=%{theta}<extra></extra>\",\"hovertext\":[2.0,2.0,2.0,2.0,2.0,2.0,2.0,2.0,2.0,2.0,2.0,2.0],\"legendgroup\":\"2\",\"line\":{\"color\":\"#00cc96\",\"dash\":\"solid\",\"shape\":\"spline\"},\"marker\":{\"symbol\":\"circle\"},\"mode\":\"markers+lines\",\"name\":\"2\",\"r\":[0.8509289456902408,0.3925966277352719,0.385575086777392,0.448382185938747,0.1789914202342996,1.0,0.0374752068073554,0.3658648662481993,0.6880728622810071,0.3293516693406204,0.7777406186018015,0.8509289456902408],\"showlegend\":true,\"subplot\":\"polar\",\"theta\":[\"acousticness\",\"danceability\",\"instrumentalness\",\"key\",\"liveness\",\"mode\",\"speechiness\",\"tempo\",\"time_signature\",\"valence\",\"EAL\",\"acousticness\"],\"type\":\"scatterpolar\",\"fill\":\"toself\"},{\"customdata\":[[3],[3],[3],[3],[3],[3],[3],[3],[3],[3],[3],[3]],\"hovertemplate\":\"<b>%{hovertext}</b><br><br>Score=%{r}<br>Feature=%{theta}<extra></extra>\",\"hovertext\":[3.0,3.0,3.0,3.0,3.0,3.0,3.0,3.0,3.0,3.0,3.0,3.0],\"legendgroup\":\"3\",\"line\":{\"color\":\"#ab63fa\",\"dash\":\"solid\",\"shape\":\"spline\"},\"marker\":{\"symbol\":\"circle\"},\"mode\":\"markers+lines\",\"name\":\"3\",\"r\":[0.4240225089417627,0.4728531478343961,0.7876587732434562,0.5428473363563758,0.1704458245570343,0.0,0.0418606314351423,0.3992679395933511,0.7134792710375372,0.3323501938040211,0.7269693519635652,0.4240225089417627],\"showlegend\":true,\"subplot\":\"polar\",\"theta\":[\"acousticness\",\"danceability\",\"instrumentalness\",\"key\",\"liveness\",\"mode\",\"speechiness\",\"tempo\",\"time_signature\",\"valence\",\"EAL\",\"acousticness\"],\"type\":\"scatterpolar\",\"fill\":\"toself\"}],                        {\"template\":{\"data\":{\"bar\":[{\"error_x\":{\"color\":\"#2a3f5f\"},\"error_y\":{\"color\":\"#2a3f5f\"},\"marker\":{\"line\":{\"color\":\"#E5ECF6\",\"width\":0.5},\"pattern\":{\"fillmode\":\"overlay\",\"size\":10,\"solidity\":0.2}},\"type\":\"bar\"}],\"barpolar\":[{\"marker\":{\"line\":{\"color\":\"#E5ECF6\",\"width\":0.5},\"pattern\":{\"fillmode\":\"overlay\",\"size\":10,\"solidity\":0.2}},\"type\":\"barpolar\"}],\"carpet\":[{\"aaxis\":{\"endlinecolor\":\"#2a3f5f\",\"gridcolor\":\"white\",\"linecolor\":\"white\",\"minorgridcolor\":\"white\",\"startlinecolor\":\"#2a3f5f\"},\"baxis\":{\"endlinecolor\":\"#2a3f5f\",\"gridcolor\":\"white\",\"linecolor\":\"white\",\"minorgridcolor\":\"white\",\"startlinecolor\":\"#2a3f5f\"},\"type\":\"carpet\"}],\"choropleth\":[{\"colorbar\":{\"outlinewidth\":0,\"ticks\":\"\"},\"type\":\"choropleth\"}],\"contour\":[{\"colorbar\":{\"outlinewidth\":0,\"ticks\":\"\"},\"colorscale\":[[0.0,\"#0d0887\"],[0.1111111111111111,\"#46039f\"],[0.2222222222222222,\"#7201a8\"],[0.3333333333333333,\"#9c179e\"],[0.4444444444444444,\"#bd3786\"],[0.5555555555555556,\"#d8576b\"],[0.6666666666666666,\"#ed7953\"],[0.7777777777777778,\"#fb9f3a\"],[0.8888888888888888,\"#fdca26\"],[1.0,\"#f0f921\"]],\"type\":\"contour\"}],\"contourcarpet\":[{\"colorbar\":{\"outlinewidth\":0,\"ticks\":\"\"},\"type\":\"contourcarpet\"}],\"heatmap\":[{\"colorbar\":{\"outlinewidth\":0,\"ticks\":\"\"},\"colorscale\":[[0.0,\"#0d0887\"],[0.1111111111111111,\"#46039f\"],[0.2222222222222222,\"#7201a8\"],[0.3333333333333333,\"#9c179e\"],[0.4444444444444444,\"#bd3786\"],[0.5555555555555556,\"#d8576b\"],[0.6666666666666666,\"#ed7953\"],[0.7777777777777778,\"#fb9f3a\"],[0.8888888888888888,\"#fdca26\"],[1.0,\"#f0f921\"]],\"type\":\"heatmap\"}],\"heatmapgl\":[{\"colorbar\":{\"outlinewidth\":0,\"ticks\":\"\"},\"colorscale\":[[0.0,\"#0d0887\"],[0.1111111111111111,\"#46039f\"],[0.2222222222222222,\"#7201a8\"],[0.3333333333333333,\"#9c179e\"],[0.4444444444444444,\"#bd3786\"],[0.5555555555555556,\"#d8576b\"],[0.6666666666666666,\"#ed7953\"],[0.7777777777777778,\"#fb9f3a\"],[0.8888888888888888,\"#fdca26\"],[1.0,\"#f0f921\"]],\"type\":\"heatmapgl\"}],\"histogram\":[{\"marker\":{\"pattern\":{\"fillmode\":\"overlay\",\"size\":10,\"solidity\":0.2}},\"type\":\"histogram\"}],\"histogram2d\":[{\"colorbar\":{\"outlinewidth\":0,\"ticks\":\"\"},\"colorscale\":[[0.0,\"#0d0887\"],[0.1111111111111111,\"#46039f\"],[0.2222222222222222,\"#7201a8\"],[0.3333333333333333,\"#9c179e\"],[0.4444444444444444,\"#bd3786\"],[0.5555555555555556,\"#d8576b\"],[0.6666666666666666,\"#ed7953\"],[0.7777777777777778,\"#fb9f3a\"],[0.8888888888888888,\"#fdca26\"],[1.0,\"#f0f921\"]],\"type\":\"histogram2d\"}],\"histogram2dcontour\":[{\"colorbar\":{\"outlinewidth\":0,\"ticks\":\"\"},\"colorscale\":[[0.0,\"#0d0887\"],[0.1111111111111111,\"#46039f\"],[0.2222222222222222,\"#7201a8\"],[0.3333333333333333,\"#9c179e\"],[0.4444444444444444,\"#bd3786\"],[0.5555555555555556,\"#d8576b\"],[0.6666666666666666,\"#ed7953\"],[0.7777777777777778,\"#fb9f3a\"],[0.8888888888888888,\"#fdca26\"],[1.0,\"#f0f921\"]],\"type\":\"histogram2dcontour\"}],\"mesh3d\":[{\"colorbar\":{\"outlinewidth\":0,\"ticks\":\"\"},\"type\":\"mesh3d\"}],\"parcoords\":[{\"line\":{\"colorbar\":{\"outlinewidth\":0,\"ticks\":\"\"}},\"type\":\"parcoords\"}],\"pie\":[{\"automargin\":true,\"type\":\"pie\"}],\"scatter\":[{\"marker\":{\"colorbar\":{\"outlinewidth\":0,\"ticks\":\"\"}},\"type\":\"scatter\"}],\"scatter3d\":[{\"line\":{\"colorbar\":{\"outlinewidth\":0,\"ticks\":\"\"}},\"marker\":{\"colorbar\":{\"outlinewidth\":0,\"ticks\":\"\"}},\"type\":\"scatter3d\"}],\"scattercarpet\":[{\"marker\":{\"colorbar\":{\"outlinewidth\":0,\"ticks\":\"\"}},\"type\":\"scattercarpet\"}],\"scattergeo\":[{\"marker\":{\"colorbar\":{\"outlinewidth\":0,\"ticks\":\"\"}},\"type\":\"scattergeo\"}],\"scattergl\":[{\"marker\":{\"colorbar\":{\"outlinewidth\":0,\"ticks\":\"\"}},\"type\":\"scattergl\"}],\"scattermapbox\":[{\"marker\":{\"colorbar\":{\"outlinewidth\":0,\"ticks\":\"\"}},\"type\":\"scattermapbox\"}],\"scatterpolar\":[{\"marker\":{\"colorbar\":{\"outlinewidth\":0,\"ticks\":\"\"}},\"type\":\"scatterpolar\"}],\"scatterpolargl\":[{\"marker\":{\"colorbar\":{\"outlinewidth\":0,\"ticks\":\"\"}},\"type\":\"scatterpolargl\"}],\"scatterternary\":[{\"marker\":{\"colorbar\":{\"outlinewidth\":0,\"ticks\":\"\"}},\"type\":\"scatterternary\"}],\"surface\":[{\"colorbar\":{\"outlinewidth\":0,\"ticks\":\"\"},\"colorscale\":[[0.0,\"#0d0887\"],[0.1111111111111111,\"#46039f\"],[0.2222222222222222,\"#7201a8\"],[0.3333333333333333,\"#9c179e\"],[0.4444444444444444,\"#bd3786\"],[0.5555555555555556,\"#d8576b\"],[0.6666666666666666,\"#ed7953\"],[0.7777777777777778,\"#fb9f3a\"],[0.8888888888888888,\"#fdca26\"],[1.0,\"#f0f921\"]],\"type\":\"surface\"}],\"table\":[{\"cells\":{\"fill\":{\"color\":\"#EBF0F8\"},\"line\":{\"color\":\"white\"}},\"header\":{\"fill\":{\"color\":\"#C8D4E3\"},\"line\":{\"color\":\"white\"}},\"type\":\"table\"}]},\"layout\":{\"annotationdefaults\":{\"arrowcolor\":\"#2a3f5f\",\"arrowhead\":0,\"arrowwidth\":1},\"autotypenumbers\":\"strict\",\"coloraxis\":{\"colorbar\":{\"outlinewidth\":0,\"ticks\":\"\"}},\"colorscale\":{\"diverging\":[[0,\"#8e0152\"],[0.1,\"#c51b7d\"],[0.2,\"#de77ae\"],[0.3,\"#f1b6da\"],[0.4,\"#fde0ef\"],[0.5,\"#f7f7f7\"],[0.6,\"#e6f5d0\"],[0.7,\"#b8e186\"],[0.8,\"#7fbc41\"],[0.9,\"#4d9221\"],[1,\"#276419\"]],\"sequential\":[[0.0,\"#0d0887\"],[0.1111111111111111,\"#46039f\"],[0.2222222222222222,\"#7201a8\"],[0.3333333333333333,\"#9c179e\"],[0.4444444444444444,\"#bd3786\"],[0.5555555555555556,\"#d8576b\"],[0.6666666666666666,\"#ed7953\"],[0.7777777777777778,\"#fb9f3a\"],[0.8888888888888888,\"#fdca26\"],[1.0,\"#f0f921\"]],\"sequentialminus\":[[0.0,\"#0d0887\"],[0.1111111111111111,\"#46039f\"],[0.2222222222222222,\"#7201a8\"],[0.3333333333333333,\"#9c179e\"],[0.4444444444444444,\"#bd3786\"],[0.5555555555555556,\"#d8576b\"],[0.6666666666666666,\"#ed7953\"],[0.7777777777777778,\"#fb9f3a\"],[0.8888888888888888,\"#fdca26\"],[1.0,\"#f0f921\"]]},\"colorway\":[\"#636efa\",\"#EF553B\",\"#00cc96\",\"#ab63fa\",\"#FFA15A\",\"#19d3f3\",\"#FF6692\",\"#B6E880\",\"#FF97FF\",\"#FECB52\"],\"font\":{\"color\":\"#2a3f5f\"},\"geo\":{\"bgcolor\":\"white\",\"lakecolor\":\"white\",\"landcolor\":\"#E5ECF6\",\"showlakes\":true,\"showland\":true,\"subunitcolor\":\"white\"},\"hoverlabel\":{\"align\":\"left\"},\"hovermode\":\"closest\",\"mapbox\":{\"style\":\"light\"},\"paper_bgcolor\":\"white\",\"plot_bgcolor\":\"#E5ECF6\",\"polar\":{\"angularaxis\":{\"gridcolor\":\"white\",\"linecolor\":\"white\",\"ticks\":\"\"},\"bgcolor\":\"#E5ECF6\",\"radialaxis\":{\"gridcolor\":\"white\",\"linecolor\":\"white\",\"ticks\":\"\"}},\"scene\":{\"xaxis\":{\"backgroundcolor\":\"#E5ECF6\",\"gridcolor\":\"white\",\"gridwidth\":2,\"linecolor\":\"white\",\"showbackground\":true,\"ticks\":\"\",\"zerolinecolor\":\"white\"},\"yaxis\":{\"backgroundcolor\":\"#E5ECF6\",\"gridcolor\":\"white\",\"gridwidth\":2,\"linecolor\":\"white\",\"showbackground\":true,\"ticks\":\"\",\"zerolinecolor\":\"white\"},\"zaxis\":{\"backgroundcolor\":\"#E5ECF6\",\"gridcolor\":\"white\",\"gridwidth\":2,\"linecolor\":\"white\",\"showbackground\":true,\"ticks\":\"\",\"zerolinecolor\":\"white\"}},\"shapedefaults\":{\"line\":{\"color\":\"#2a3f5f\"}},\"ternary\":{\"aaxis\":{\"gridcolor\":\"white\",\"linecolor\":\"white\",\"ticks\":\"\"},\"baxis\":{\"gridcolor\":\"white\",\"linecolor\":\"white\",\"ticks\":\"\"},\"bgcolor\":\"#E5ECF6\",\"caxis\":{\"gridcolor\":\"white\",\"linecolor\":\"white\",\"ticks\":\"\"}},\"title\":{\"x\":0.05},\"xaxis\":{\"automargin\":true,\"gridcolor\":\"white\",\"linecolor\":\"white\",\"ticks\":\"\",\"title\":{\"standoff\":15},\"zerolinecolor\":\"white\",\"zerolinewidth\":2},\"yaxis\":{\"automargin\":true,\"gridcolor\":\"white\",\"linecolor\":\"white\",\"ticks\":\"\",\"title\":{\"standoff\":15},\"zerolinecolor\":\"white\",\"zerolinewidth\":2}}},\"polar\":{\"domain\":{\"x\":[0.0,1.0],\"y\":[0.0,1.0]},\"angularaxis\":{\"direction\":\"clockwise\",\"rotation\":90},\"radialaxis\":{\"range\":[0,1]}},\"legend\":{\"title\":{\"text\":\"kmeans_labels\"},\"tracegroupgap\":0},\"margin\":{\"t\":60}},                        {\"responsive\": true}                    ).then(function(){\n",
       "                            \n",
       "var gd = document.getElementById('d3ec4b12-0ca7-4785-a4ae-9002c84ef461');\n",
       "var x = new MutationObserver(function (mutations, observer) {{\n",
       "        var display = window.getComputedStyle(gd).display;\n",
       "        if (!display || display === 'none') {{\n",
       "            console.log([gd, 'removed!']);\n",
       "            Plotly.purge(gd);\n",
       "            observer.disconnect();\n",
       "        }}\n",
       "}});\n",
       "\n",
       "// Listen for the removal of the full notebook cells\n",
       "var notebookContainer = gd.closest('#notebook-container');\n",
       "if (notebookContainer) {{\n",
       "    x.observe(notebookContainer, {childList: true});\n",
       "}}\n",
       "\n",
       "// Listen for the clearing of the current output cell\n",
       "var outputEl = gd.closest('.output');\n",
       "if (outputEl) {{\n",
       "    x.observe(outputEl, {childList: true});\n",
       "}}\n",
       "\n",
       "                        })                };                });            </script>        </div>"
      ]
     },
     "metadata": {},
     "output_type": "display_data"
    }
   ],
   "source": [
    "# plot on a single chart\n",
    "\n",
    "import warnings\n",
    "\n",
    "import plotly.express as px\n",
    "\n",
    "warnings.simplefilter(action='ignore', category=FutureWarning)\n",
    "\n",
    "fig = px.line_polar(df,\n",
    "        r='score',\n",
    "        theta='category', \n",
    "        color='kmeans_labels', \n",
    "        line_close=True,\n",
    "        line_shape='spline',  # or linear\n",
    "        hover_name='kmeans_labels',\n",
    "        hover_data={'kmeans_labels':False},\n",
    "        markers=True,\n",
    "        labels= {'category':'Feature', 'score':'Score'},\n",
    "        # text='kmeans_labels',   \n",
    "        range_r=[0,1], \n",
    "        direction='clockwise',  # or counterclockwise\n",
    "        start_angle=90\n",
    "\n",
    ")\n",
    "\n",
    "# fill in the area between the line and the axis\n",
    "fig.update_traces(fill='toself') \n",
    "\n",
    "fig.show()"
   ]
  },
  {
   "cell_type": "markdown",
   "id": "531043f8",
   "metadata": {},
   "source": [
    "In the previous notebook we saw that several features have very low range and seem to contribute little to cluster difference:"
   ]
  },
  {
   "cell_type": "code",
   "execution_count": 207,
   "id": "12f8439e",
   "metadata": {},
   "outputs": [
    {
     "data": {
      "text/html": [
       "<div>\n",
       "<style scoped>\n",
       "    .dataframe tbody tr th:only-of-type {\n",
       "        vertical-align: middle;\n",
       "    }\n",
       "\n",
       "    .dataframe tbody tr th {\n",
       "        vertical-align: top;\n",
       "    }\n",
       "\n",
       "    .dataframe thead th {\n",
       "        text-align: right;\n",
       "    }\n",
       "</style>\n",
       "<table border=\"1\" class=\"dataframe\">\n",
       "  <thead>\n",
       "    <tr style=\"text-align: right;\">\n",
       "      <th></th>\n",
       "      <th>min</th>\n",
       "      <th>max</th>\n",
       "      <th>feature_range</th>\n",
       "    </tr>\n",
       "  </thead>\n",
       "  <tbody>\n",
       "    <tr>\n",
       "      <th>kmeans_labels</th>\n",
       "      <td>0.000000</td>\n",
       "      <td>3.000000</td>\n",
       "      <td>3.000000</td>\n",
       "    </tr>\n",
       "    <tr>\n",
       "      <th>acousticness</th>\n",
       "      <td>0.147872</td>\n",
       "      <td>0.850929</td>\n",
       "      <td>0.703057</td>\n",
       "    </tr>\n",
       "    <tr>\n",
       "      <th>danceability</th>\n",
       "      <td>0.392597</td>\n",
       "      <td>0.568631</td>\n",
       "      <td>0.176034</td>\n",
       "    </tr>\n",
       "    <tr>\n",
       "      <th>instrumentalness</th>\n",
       "      <td>0.039570</td>\n",
       "      <td>0.787659</td>\n",
       "      <td>0.748089</td>\n",
       "    </tr>\n",
       "    <tr>\n",
       "      <th>key</th>\n",
       "      <td>0.432278</td>\n",
       "      <td>0.555005</td>\n",
       "      <td>0.122727</td>\n",
       "    </tr>\n",
       "    <tr>\n",
       "      <th>liveness</th>\n",
       "      <td>0.170446</td>\n",
       "      <td>0.214150</td>\n",
       "      <td>0.043704</td>\n",
       "    </tr>\n",
       "    <tr>\n",
       "      <th>mode</th>\n",
       "      <td>0.000000</td>\n",
       "      <td>1.000000</td>\n",
       "      <td>1.000000</td>\n",
       "    </tr>\n",
       "    <tr>\n",
       "      <th>speechiness</th>\n",
       "      <td>0.037475</td>\n",
       "      <td>0.092548</td>\n",
       "      <td>0.055073</td>\n",
       "    </tr>\n",
       "    <tr>\n",
       "      <th>tempo</th>\n",
       "      <td>0.365865</td>\n",
       "      <td>0.427052</td>\n",
       "      <td>0.061188</td>\n",
       "    </tr>\n",
       "    <tr>\n",
       "      <th>time_signature</th>\n",
       "      <td>0.688073</td>\n",
       "      <td>0.736055</td>\n",
       "      <td>0.047982</td>\n",
       "    </tr>\n",
       "    <tr>\n",
       "      <th>valence</th>\n",
       "      <td>0.329352</td>\n",
       "      <td>0.524864</td>\n",
       "      <td>0.195513</td>\n",
       "    </tr>\n",
       "    <tr>\n",
       "      <th>EAL</th>\n",
       "      <td>0.719720</td>\n",
       "      <td>0.777741</td>\n",
       "      <td>0.058020</td>\n",
       "    </tr>\n",
       "  </tbody>\n",
       "</table>\n",
       "</div>"
      ],
      "text/plain": [
       "                       min       max  feature_range\n",
       "kmeans_labels     0.000000  3.000000       3.000000\n",
       "acousticness      0.147872  0.850929       0.703057\n",
       "danceability      0.392597  0.568631       0.176034\n",
       "instrumentalness  0.039570  0.787659       0.748089\n",
       "key               0.432278  0.555005       0.122727\n",
       "liveness          0.170446  0.214150       0.043704\n",
       "mode              0.000000  1.000000       1.000000\n",
       "speechiness       0.037475  0.092548       0.055073\n",
       "tempo             0.365865  0.427052       0.061188\n",
       "time_signature    0.688073  0.736055       0.047982\n",
       "valence           0.329352  0.524864       0.195513\n",
       "EAL               0.719720  0.777741       0.058020"
      ]
     },
     "execution_count": 207,
     "metadata": {},
     "output_type": "execute_result"
    }
   ],
   "source": [
    "# replicate the min max table from previous notebook with feature ranges (variability)\n",
    "min_max_df = feature_means_kmeans.agg(['min', 'max'], axis=0).T\n",
    "min_max_df['feature_range'] = min_max_df['max'] - min_max_df['min']\n",
    "min_max_df"
   ]
  },
  {
   "cell_type": "markdown",
   "id": "ad1b3b09",
   "metadata": {},
   "source": [
    "The columns with narrow range all have less than 0.1 variability across the clusters:\n",
    "\n",
    "- liveness \n",
    "- speechiness\n",
    "- tempo\n",
    "- time_signature \n",
    "- EAL\n",
    "\n",
    "We have plotted all features in the polar plot above, but compare now to the one below with only 4 features. You don't need anything but the 4 features to describe the genre differences.\n",
    "\n",
    "We are determining **FEATURE IMPORTANCE** while looking at our unsupervised cluster model results."
   ]
  },
  {
   "cell_type": "markdown",
   "id": "13eb8b64",
   "metadata": {},
   "source": [
    "#### A Note on Mode\n",
    "\n",
    "For readers' understanding of the 'mode' feature:\n",
    "\n",
    "Description from audio features dictionary above: \"Mode indicates the modality (major or minor) of a track, the type of scale from which its melodic content is derived. Major is represented by 1 and minor is 0.\"\n",
    "\n",
    "Although the Valence feature is an indicator of perceptual positiveness or negativeness of a song, Mode can also contribute to that perception. Major songs USUALLY sound more cheerful/ happy/ positive whereas Minor songs USUALLY sound more sombre/ sad/ negative. That isn't isn't to say a song can't be Major and sad.\n",
    "\n",
    "> \"The difference between major and minor chords and scales boils down to a difference of one essential note – the third. The third is what gives major-sounding scales and chords their brighter, cheerier sound, and what gives minor scales and chords their darker, sadder sound\" (SOURCE:https://www.studybass.com/lessons/bass-scales/the-difference-between-major-and-minor/#:~:text=The%20difference%20between%20major%20and%20minor%20chords%20and%20scales%20boils,chords%20their%20darker%2C%20sadder%20sound).\n",
    "\n",
    "**In addition to removing the above low variability features, we will remove Mode when looking at our clusters, using Valence as a proxy for mood.**\n",
    "\n",
    "#### Finally - Key\n",
    "\n",
    "We saw in section 2.3 of Notebook 2 while preparing for the supervised learning models that key had low variability in the reduced dataset - we removed the feature there. IN this bigger sample it has slightly more variability, however song in all genres are generally in all keys... mode has been removed (key and mode build o ntop of each other to determine the full expression of the song's sound signature - e.g. C Major v C Minor sound quite different, but that is more because of the mode than the key - indeed C Major sounds quite different to D Major but as we can see from the scaled range, there isn't much variability in this feature across clusters or genres (as seen in Notebook 2).\n",
    "\n",
    "**In addition to removing mode, we will remove key, leaving us with 4 features in total**."
   ]
  },
  {
   "cell_type": "code",
   "execution_count": 106,
   "id": "630105d8",
   "metadata": {},
   "outputs": [
    {
     "data": {
      "text/html": [
       "<div>\n",
       "<style scoped>\n",
       "    .dataframe tbody tr th:only-of-type {\n",
       "        vertical-align: middle;\n",
       "    }\n",
       "\n",
       "    .dataframe tbody tr th {\n",
       "        vertical-align: top;\n",
       "    }\n",
       "\n",
       "    .dataframe thead th {\n",
       "        text-align: right;\n",
       "    }\n",
       "</style>\n",
       "<table border=\"1\" class=\"dataframe\">\n",
       "  <thead>\n",
       "    <tr style=\"text-align: right;\">\n",
       "      <th></th>\n",
       "      <th>kmeans_labels</th>\n",
       "      <th>acousticness</th>\n",
       "      <th>danceability</th>\n",
       "      <th>instrumentalness</th>\n",
       "      <th>valence</th>\n",
       "    </tr>\n",
       "  </thead>\n",
       "  <tbody>\n",
       "    <tr>\n",
       "      <th>0</th>\n",
       "      <td>0</td>\n",
       "      <td>0.288034</td>\n",
       "      <td>0.564322</td>\n",
       "      <td>0.039570</td>\n",
       "      <td>0.517556</td>\n",
       "    </tr>\n",
       "    <tr>\n",
       "      <th>1</th>\n",
       "      <td>1</td>\n",
       "      <td>0.147872</td>\n",
       "      <td>0.568631</td>\n",
       "      <td>0.189231</td>\n",
       "      <td>0.524864</td>\n",
       "    </tr>\n",
       "    <tr>\n",
       "      <th>2</th>\n",
       "      <td>2</td>\n",
       "      <td>0.850929</td>\n",
       "      <td>0.392597</td>\n",
       "      <td>0.385575</td>\n",
       "      <td>0.329352</td>\n",
       "    </tr>\n",
       "    <tr>\n",
       "      <th>3</th>\n",
       "      <td>3</td>\n",
       "      <td>0.424023</td>\n",
       "      <td>0.472853</td>\n",
       "      <td>0.787659</td>\n",
       "      <td>0.332350</td>\n",
       "    </tr>\n",
       "  </tbody>\n",
       "</table>\n",
       "</div>"
      ],
      "text/plain": [
       "   kmeans_labels  acousticness  danceability  instrumentalness   valence\n",
       "0              0      0.288034      0.564322          0.039570  0.517556\n",
       "1              1      0.147872      0.568631          0.189231  0.524864\n",
       "2              2      0.850929      0.392597          0.385575  0.329352\n",
       "3              3      0.424023      0.472853          0.787659  0.332350"
      ]
     },
     "execution_count": 106,
     "metadata": {},
     "output_type": "execute_result"
    }
   ],
   "source": [
    "# according to the best fit model random forests feature importance...\n",
    "# mode and time_signature were the least important for determining clusters in the supervised learning model\n",
    "# let's look at the cluster feature maps without those features\n",
    "feature_means_kmeans_reduced = feature_means_kmeans.drop(\\\n",
    "                            feature_means_kmeans[['EAL', 'time_signature','tempo','speechiness','liveness', 'key', 'mode']], axis=1)\n",
    "feature_means_kmeans_reduced"
   ]
  },
  {
   "cell_type": "code",
   "execution_count": 107,
   "id": "b8a69253",
   "metadata": {
    "scrolled": false
   },
   "outputs": [
    {
     "data": {
      "text/html": [
       "<div>\n",
       "<style scoped>\n",
       "    .dataframe tbody tr th:only-of-type {\n",
       "        vertical-align: middle;\n",
       "    }\n",
       "\n",
       "    .dataframe tbody tr th {\n",
       "        vertical-align: top;\n",
       "    }\n",
       "\n",
       "    .dataframe thead th {\n",
       "        text-align: right;\n",
       "    }\n",
       "</style>\n",
       "<table border=\"1\" class=\"dataframe\">\n",
       "  <thead>\n",
       "    <tr style=\"text-align: right;\">\n",
       "      <th></th>\n",
       "      <th>kmeans_labels</th>\n",
       "      <th>category</th>\n",
       "      <th>score</th>\n",
       "    </tr>\n",
       "  </thead>\n",
       "  <tbody>\n",
       "    <tr>\n",
       "      <th>0</th>\n",
       "      <td>0</td>\n",
       "      <td>acousticness</td>\n",
       "      <td>0.288034</td>\n",
       "    </tr>\n",
       "    <tr>\n",
       "      <th>4</th>\n",
       "      <td>0</td>\n",
       "      <td>danceability</td>\n",
       "      <td>0.564322</td>\n",
       "    </tr>\n",
       "    <tr>\n",
       "      <th>8</th>\n",
       "      <td>0</td>\n",
       "      <td>instrumentalness</td>\n",
       "      <td>0.039570</td>\n",
       "    </tr>\n",
       "    <tr>\n",
       "      <th>12</th>\n",
       "      <td>0</td>\n",
       "      <td>valence</td>\n",
       "      <td>0.517556</td>\n",
       "    </tr>\n",
       "  </tbody>\n",
       "</table>\n",
       "</div>"
      ],
      "text/plain": [
       "    kmeans_labels          category     score\n",
       "0               0      acousticness  0.288034\n",
       "4               0      danceability  0.564322\n",
       "8               0  instrumentalness  0.039570\n",
       "12              0           valence  0.517556"
      ]
     },
     "execution_count": 107,
     "metadata": {},
     "output_type": "execute_result"
    }
   ],
   "source": [
    "# Convert from wide data to long data to plot radar chart\n",
    "df_reduced = pd.melt(\n",
    "    feature_means_kmeans_reduced, \n",
    "    id_vars=['kmeans_labels'], \n",
    "    var_name='category', \n",
    "    value_name='score',\n",
    "value_vars=['acousticness', 'danceability', 'instrumentalness', 'valence']\n",
    ")\n",
    "# check conversion for the first cluster\n",
    "df_reduced[df_reduced.kmeans_labels == 0]"
   ]
  },
  {
   "cell_type": "code",
   "execution_count": 108,
   "id": "edefbe52",
   "metadata": {
    "scrolled": false
   },
   "outputs": [
    {
     "data": {
      "application/vnd.plotly.v1+json": {
       "config": {
        "plotlyServerURL": "https://plot.ly"
       },
       "data": [
        {
         "customdata": [
          [
           0
          ],
          [
           0
          ],
          [
           0
          ],
          [
           0
          ],
          [
           0
          ]
         ],
         "fill": "toself",
         "hovertemplate": "<b>%{hovertext}</b><br><br>Score=%{r}<br>Feature=%{theta}<extra></extra>",
         "hovertext": [
          0,
          0,
          0,
          0,
          0
         ],
         "legendgroup": "0",
         "line": {
          "color": "#636efa",
          "dash": "solid",
          "shape": "spline"
         },
         "marker": {
          "symbol": "circle"
         },
         "mode": "markers+lines",
         "name": "0",
         "r": [
          0.2880336586114826,
          0.5643215882278507,
          0.0395701724077088,
          0.5175559432872731,
          0.2880336586114826
         ],
         "showlegend": true,
         "subplot": "polar",
         "theta": [
          "acousticness",
          "danceability",
          "instrumentalness",
          "valence",
          "acousticness"
         ],
         "type": "scatterpolar"
        },
        {
         "customdata": [
          [
           1
          ],
          [
           1
          ],
          [
           1
          ],
          [
           1
          ],
          [
           1
          ]
         ],
         "fill": "toself",
         "hovertemplate": "<b>%{hovertext}</b><br><br>Score=%{r}<br>Feature=%{theta}<extra></extra>",
         "hovertext": [
          1,
          1,
          1,
          1,
          1
         ],
         "legendgroup": "1",
         "line": {
          "color": "#EF553B",
          "dash": "solid",
          "shape": "spline"
         },
         "marker": {
          "symbol": "circle"
         },
         "mode": "markers+lines",
         "name": "1",
         "r": [
          0.1478718226673003,
          0.5686306918333522,
          0.1892312419409004,
          0.5248643667936688,
          0.1478718226673003
         ],
         "showlegend": true,
         "subplot": "polar",
         "theta": [
          "acousticness",
          "danceability",
          "instrumentalness",
          "valence",
          "acousticness"
         ],
         "type": "scatterpolar"
        },
        {
         "customdata": [
          [
           2
          ],
          [
           2
          ],
          [
           2
          ],
          [
           2
          ],
          [
           2
          ]
         ],
         "fill": "toself",
         "hovertemplate": "<b>%{hovertext}</b><br><br>Score=%{r}<br>Feature=%{theta}<extra></extra>",
         "hovertext": [
          2,
          2,
          2,
          2,
          2
         ],
         "legendgroup": "2",
         "line": {
          "color": "#00cc96",
          "dash": "solid",
          "shape": "spline"
         },
         "marker": {
          "symbol": "circle"
         },
         "mode": "markers+lines",
         "name": "2",
         "r": [
          0.8509289456902408,
          0.3925966277352719,
          0.385575086777392,
          0.3293516693406204,
          0.8509289456902408
         ],
         "showlegend": true,
         "subplot": "polar",
         "theta": [
          "acousticness",
          "danceability",
          "instrumentalness",
          "valence",
          "acousticness"
         ],
         "type": "scatterpolar"
        },
        {
         "customdata": [
          [
           3
          ],
          [
           3
          ],
          [
           3
          ],
          [
           3
          ],
          [
           3
          ]
         ],
         "fill": "toself",
         "hovertemplate": "<b>%{hovertext}</b><br><br>Score=%{r}<br>Feature=%{theta}<extra></extra>",
         "hovertext": [
          3,
          3,
          3,
          3,
          3
         ],
         "legendgroup": "3",
         "line": {
          "color": "#ab63fa",
          "dash": "solid",
          "shape": "spline"
         },
         "marker": {
          "symbol": "circle"
         },
         "mode": "markers+lines",
         "name": "3",
         "r": [
          0.4240225089417627,
          0.4728531478343961,
          0.7876587732434562,
          0.3323501938040211,
          0.4240225089417627
         ],
         "showlegend": true,
         "subplot": "polar",
         "theta": [
          "acousticness",
          "danceability",
          "instrumentalness",
          "valence",
          "acousticness"
         ],
         "type": "scatterpolar"
        }
       ],
       "layout": {
        "legend": {
         "title": {
          "text": "kmeans_labels"
         },
         "tracegroupgap": 0
        },
        "margin": {
         "t": 60
        },
        "polar": {
         "angularaxis": {
          "direction": "clockwise",
          "rotation": 90
         },
         "domain": {
          "x": [
           0,
           1
          ],
          "y": [
           0,
           1
          ]
         },
         "radialaxis": {
          "range": [
           0,
           1
          ]
         }
        },
        "template": {
         "data": {
          "bar": [
           {
            "error_x": {
             "color": "#2a3f5f"
            },
            "error_y": {
             "color": "#2a3f5f"
            },
            "marker": {
             "line": {
              "color": "#E5ECF6",
              "width": 0.5
             },
             "pattern": {
              "fillmode": "overlay",
              "size": 10,
              "solidity": 0.2
             }
            },
            "type": "bar"
           }
          ],
          "barpolar": [
           {
            "marker": {
             "line": {
              "color": "#E5ECF6",
              "width": 0.5
             },
             "pattern": {
              "fillmode": "overlay",
              "size": 10,
              "solidity": 0.2
             }
            },
            "type": "barpolar"
           }
          ],
          "carpet": [
           {
            "aaxis": {
             "endlinecolor": "#2a3f5f",
             "gridcolor": "white",
             "linecolor": "white",
             "minorgridcolor": "white",
             "startlinecolor": "#2a3f5f"
            },
            "baxis": {
             "endlinecolor": "#2a3f5f",
             "gridcolor": "white",
             "linecolor": "white",
             "minorgridcolor": "white",
             "startlinecolor": "#2a3f5f"
            },
            "type": "carpet"
           }
          ],
          "choropleth": [
           {
            "colorbar": {
             "outlinewidth": 0,
             "ticks": ""
            },
            "type": "choropleth"
           }
          ],
          "contour": [
           {
            "colorbar": {
             "outlinewidth": 0,
             "ticks": ""
            },
            "colorscale": [
             [
              0,
              "#0d0887"
             ],
             [
              0.1111111111111111,
              "#46039f"
             ],
             [
              0.2222222222222222,
              "#7201a8"
             ],
             [
              0.3333333333333333,
              "#9c179e"
             ],
             [
              0.4444444444444444,
              "#bd3786"
             ],
             [
              0.5555555555555556,
              "#d8576b"
             ],
             [
              0.6666666666666666,
              "#ed7953"
             ],
             [
              0.7777777777777778,
              "#fb9f3a"
             ],
             [
              0.8888888888888888,
              "#fdca26"
             ],
             [
              1,
              "#f0f921"
             ]
            ],
            "type": "contour"
           }
          ],
          "contourcarpet": [
           {
            "colorbar": {
             "outlinewidth": 0,
             "ticks": ""
            },
            "type": "contourcarpet"
           }
          ],
          "heatmap": [
           {
            "colorbar": {
             "outlinewidth": 0,
             "ticks": ""
            },
            "colorscale": [
             [
              0,
              "#0d0887"
             ],
             [
              0.1111111111111111,
              "#46039f"
             ],
             [
              0.2222222222222222,
              "#7201a8"
             ],
             [
              0.3333333333333333,
              "#9c179e"
             ],
             [
              0.4444444444444444,
              "#bd3786"
             ],
             [
              0.5555555555555556,
              "#d8576b"
             ],
             [
              0.6666666666666666,
              "#ed7953"
             ],
             [
              0.7777777777777778,
              "#fb9f3a"
             ],
             [
              0.8888888888888888,
              "#fdca26"
             ],
             [
              1,
              "#f0f921"
             ]
            ],
            "type": "heatmap"
           }
          ],
          "heatmapgl": [
           {
            "colorbar": {
             "outlinewidth": 0,
             "ticks": ""
            },
            "colorscale": [
             [
              0,
              "#0d0887"
             ],
             [
              0.1111111111111111,
              "#46039f"
             ],
             [
              0.2222222222222222,
              "#7201a8"
             ],
             [
              0.3333333333333333,
              "#9c179e"
             ],
             [
              0.4444444444444444,
              "#bd3786"
             ],
             [
              0.5555555555555556,
              "#d8576b"
             ],
             [
              0.6666666666666666,
              "#ed7953"
             ],
             [
              0.7777777777777778,
              "#fb9f3a"
             ],
             [
              0.8888888888888888,
              "#fdca26"
             ],
             [
              1,
              "#f0f921"
             ]
            ],
            "type": "heatmapgl"
           }
          ],
          "histogram": [
           {
            "marker": {
             "pattern": {
              "fillmode": "overlay",
              "size": 10,
              "solidity": 0.2
             }
            },
            "type": "histogram"
           }
          ],
          "histogram2d": [
           {
            "colorbar": {
             "outlinewidth": 0,
             "ticks": ""
            },
            "colorscale": [
             [
              0,
              "#0d0887"
             ],
             [
              0.1111111111111111,
              "#46039f"
             ],
             [
              0.2222222222222222,
              "#7201a8"
             ],
             [
              0.3333333333333333,
              "#9c179e"
             ],
             [
              0.4444444444444444,
              "#bd3786"
             ],
             [
              0.5555555555555556,
              "#d8576b"
             ],
             [
              0.6666666666666666,
              "#ed7953"
             ],
             [
              0.7777777777777778,
              "#fb9f3a"
             ],
             [
              0.8888888888888888,
              "#fdca26"
             ],
             [
              1,
              "#f0f921"
             ]
            ],
            "type": "histogram2d"
           }
          ],
          "histogram2dcontour": [
           {
            "colorbar": {
             "outlinewidth": 0,
             "ticks": ""
            },
            "colorscale": [
             [
              0,
              "#0d0887"
             ],
             [
              0.1111111111111111,
              "#46039f"
             ],
             [
              0.2222222222222222,
              "#7201a8"
             ],
             [
              0.3333333333333333,
              "#9c179e"
             ],
             [
              0.4444444444444444,
              "#bd3786"
             ],
             [
              0.5555555555555556,
              "#d8576b"
             ],
             [
              0.6666666666666666,
              "#ed7953"
             ],
             [
              0.7777777777777778,
              "#fb9f3a"
             ],
             [
              0.8888888888888888,
              "#fdca26"
             ],
             [
              1,
              "#f0f921"
             ]
            ],
            "type": "histogram2dcontour"
           }
          ],
          "mesh3d": [
           {
            "colorbar": {
             "outlinewidth": 0,
             "ticks": ""
            },
            "type": "mesh3d"
           }
          ],
          "parcoords": [
           {
            "line": {
             "colorbar": {
              "outlinewidth": 0,
              "ticks": ""
             }
            },
            "type": "parcoords"
           }
          ],
          "pie": [
           {
            "automargin": true,
            "type": "pie"
           }
          ],
          "scatter": [
           {
            "marker": {
             "colorbar": {
              "outlinewidth": 0,
              "ticks": ""
             }
            },
            "type": "scatter"
           }
          ],
          "scatter3d": [
           {
            "line": {
             "colorbar": {
              "outlinewidth": 0,
              "ticks": ""
             }
            },
            "marker": {
             "colorbar": {
              "outlinewidth": 0,
              "ticks": ""
             }
            },
            "type": "scatter3d"
           }
          ],
          "scattercarpet": [
           {
            "marker": {
             "colorbar": {
              "outlinewidth": 0,
              "ticks": ""
             }
            },
            "type": "scattercarpet"
           }
          ],
          "scattergeo": [
           {
            "marker": {
             "colorbar": {
              "outlinewidth": 0,
              "ticks": ""
             }
            },
            "type": "scattergeo"
           }
          ],
          "scattergl": [
           {
            "marker": {
             "colorbar": {
              "outlinewidth": 0,
              "ticks": ""
             }
            },
            "type": "scattergl"
           }
          ],
          "scattermapbox": [
           {
            "marker": {
             "colorbar": {
              "outlinewidth": 0,
              "ticks": ""
             }
            },
            "type": "scattermapbox"
           }
          ],
          "scatterpolar": [
           {
            "marker": {
             "colorbar": {
              "outlinewidth": 0,
              "ticks": ""
             }
            },
            "type": "scatterpolar"
           }
          ],
          "scatterpolargl": [
           {
            "marker": {
             "colorbar": {
              "outlinewidth": 0,
              "ticks": ""
             }
            },
            "type": "scatterpolargl"
           }
          ],
          "scatterternary": [
           {
            "marker": {
             "colorbar": {
              "outlinewidth": 0,
              "ticks": ""
             }
            },
            "type": "scatterternary"
           }
          ],
          "surface": [
           {
            "colorbar": {
             "outlinewidth": 0,
             "ticks": ""
            },
            "colorscale": [
             [
              0,
              "#0d0887"
             ],
             [
              0.1111111111111111,
              "#46039f"
             ],
             [
              0.2222222222222222,
              "#7201a8"
             ],
             [
              0.3333333333333333,
              "#9c179e"
             ],
             [
              0.4444444444444444,
              "#bd3786"
             ],
             [
              0.5555555555555556,
              "#d8576b"
             ],
             [
              0.6666666666666666,
              "#ed7953"
             ],
             [
              0.7777777777777778,
              "#fb9f3a"
             ],
             [
              0.8888888888888888,
              "#fdca26"
             ],
             [
              1,
              "#f0f921"
             ]
            ],
            "type": "surface"
           }
          ],
          "table": [
           {
            "cells": {
             "fill": {
              "color": "#EBF0F8"
             },
             "line": {
              "color": "white"
             }
            },
            "header": {
             "fill": {
              "color": "#C8D4E3"
             },
             "line": {
              "color": "white"
             }
            },
            "type": "table"
           }
          ]
         },
         "layout": {
          "annotationdefaults": {
           "arrowcolor": "#2a3f5f",
           "arrowhead": 0,
           "arrowwidth": 1
          },
          "autotypenumbers": "strict",
          "coloraxis": {
           "colorbar": {
            "outlinewidth": 0,
            "ticks": ""
           }
          },
          "colorscale": {
           "diverging": [
            [
             0,
             "#8e0152"
            ],
            [
             0.1,
             "#c51b7d"
            ],
            [
             0.2,
             "#de77ae"
            ],
            [
             0.3,
             "#f1b6da"
            ],
            [
             0.4,
             "#fde0ef"
            ],
            [
             0.5,
             "#f7f7f7"
            ],
            [
             0.6,
             "#e6f5d0"
            ],
            [
             0.7,
             "#b8e186"
            ],
            [
             0.8,
             "#7fbc41"
            ],
            [
             0.9,
             "#4d9221"
            ],
            [
             1,
             "#276419"
            ]
           ],
           "sequential": [
            [
             0,
             "#0d0887"
            ],
            [
             0.1111111111111111,
             "#46039f"
            ],
            [
             0.2222222222222222,
             "#7201a8"
            ],
            [
             0.3333333333333333,
             "#9c179e"
            ],
            [
             0.4444444444444444,
             "#bd3786"
            ],
            [
             0.5555555555555556,
             "#d8576b"
            ],
            [
             0.6666666666666666,
             "#ed7953"
            ],
            [
             0.7777777777777778,
             "#fb9f3a"
            ],
            [
             0.8888888888888888,
             "#fdca26"
            ],
            [
             1,
             "#f0f921"
            ]
           ],
           "sequentialminus": [
            [
             0,
             "#0d0887"
            ],
            [
             0.1111111111111111,
             "#46039f"
            ],
            [
             0.2222222222222222,
             "#7201a8"
            ],
            [
             0.3333333333333333,
             "#9c179e"
            ],
            [
             0.4444444444444444,
             "#bd3786"
            ],
            [
             0.5555555555555556,
             "#d8576b"
            ],
            [
             0.6666666666666666,
             "#ed7953"
            ],
            [
             0.7777777777777778,
             "#fb9f3a"
            ],
            [
             0.8888888888888888,
             "#fdca26"
            ],
            [
             1,
             "#f0f921"
            ]
           ]
          },
          "colorway": [
           "#636efa",
           "#EF553B",
           "#00cc96",
           "#ab63fa",
           "#FFA15A",
           "#19d3f3",
           "#FF6692",
           "#B6E880",
           "#FF97FF",
           "#FECB52"
          ],
          "font": {
           "color": "#2a3f5f"
          },
          "geo": {
           "bgcolor": "white",
           "lakecolor": "white",
           "landcolor": "#E5ECF6",
           "showlakes": true,
           "showland": true,
           "subunitcolor": "white"
          },
          "hoverlabel": {
           "align": "left"
          },
          "hovermode": "closest",
          "mapbox": {
           "style": "light"
          },
          "paper_bgcolor": "white",
          "plot_bgcolor": "#E5ECF6",
          "polar": {
           "angularaxis": {
            "gridcolor": "white",
            "linecolor": "white",
            "ticks": ""
           },
           "bgcolor": "#E5ECF6",
           "radialaxis": {
            "gridcolor": "white",
            "linecolor": "white",
            "ticks": ""
           }
          },
          "scene": {
           "xaxis": {
            "backgroundcolor": "#E5ECF6",
            "gridcolor": "white",
            "gridwidth": 2,
            "linecolor": "white",
            "showbackground": true,
            "ticks": "",
            "zerolinecolor": "white"
           },
           "yaxis": {
            "backgroundcolor": "#E5ECF6",
            "gridcolor": "white",
            "gridwidth": 2,
            "linecolor": "white",
            "showbackground": true,
            "ticks": "",
            "zerolinecolor": "white"
           },
           "zaxis": {
            "backgroundcolor": "#E5ECF6",
            "gridcolor": "white",
            "gridwidth": 2,
            "linecolor": "white",
            "showbackground": true,
            "ticks": "",
            "zerolinecolor": "white"
           }
          },
          "shapedefaults": {
           "line": {
            "color": "#2a3f5f"
           }
          },
          "ternary": {
           "aaxis": {
            "gridcolor": "white",
            "linecolor": "white",
            "ticks": ""
           },
           "baxis": {
            "gridcolor": "white",
            "linecolor": "white",
            "ticks": ""
           },
           "bgcolor": "#E5ECF6",
           "caxis": {
            "gridcolor": "white",
            "linecolor": "white",
            "ticks": ""
           }
          },
          "title": {
           "x": 0.05
          },
          "xaxis": {
           "automargin": true,
           "gridcolor": "white",
           "linecolor": "white",
           "ticks": "",
           "title": {
            "standoff": 15
           },
           "zerolinecolor": "white",
           "zerolinewidth": 2
          },
          "yaxis": {
           "automargin": true,
           "gridcolor": "white",
           "linecolor": "white",
           "ticks": "",
           "title": {
            "standoff": 15
           },
           "zerolinecolor": "white",
           "zerolinewidth": 2
          }
         }
        }
       }
      },
      "text/html": [
       "<div>                            <div id=\"43d15114-976a-4b3e-9c7d-458c109a6d8e\" class=\"plotly-graph-div\" style=\"height:525px; width:100%;\"></div>            <script type=\"text/javascript\">                require([\"plotly\"], function(Plotly) {                    window.PLOTLYENV=window.PLOTLYENV || {};                                    if (document.getElementById(\"43d15114-976a-4b3e-9c7d-458c109a6d8e\")) {                    Plotly.newPlot(                        \"43d15114-976a-4b3e-9c7d-458c109a6d8e\",                        [{\"customdata\":[[0],[0],[0],[0],[0]],\"hovertemplate\":\"<b>%{hovertext}</b><br><br>Score=%{r}<br>Feature=%{theta}<extra></extra>\",\"hovertext\":[0.0,0.0,0.0,0.0,0.0],\"legendgroup\":\"0\",\"line\":{\"color\":\"#636efa\",\"dash\":\"solid\",\"shape\":\"spline\"},\"marker\":{\"symbol\":\"circle\"},\"mode\":\"markers+lines\",\"name\":\"0\",\"r\":[0.2880336586114826,0.5643215882278507,0.0395701724077088,0.5175559432872731,0.2880336586114826],\"showlegend\":true,\"subplot\":\"polar\",\"theta\":[\"acousticness\",\"danceability\",\"instrumentalness\",\"valence\",\"acousticness\"],\"type\":\"scatterpolar\",\"fill\":\"toself\"},{\"customdata\":[[1],[1],[1],[1],[1]],\"hovertemplate\":\"<b>%{hovertext}</b><br><br>Score=%{r}<br>Feature=%{theta}<extra></extra>\",\"hovertext\":[1.0,1.0,1.0,1.0,1.0],\"legendgroup\":\"1\",\"line\":{\"color\":\"#EF553B\",\"dash\":\"solid\",\"shape\":\"spline\"},\"marker\":{\"symbol\":\"circle\"},\"mode\":\"markers+lines\",\"name\":\"1\",\"r\":[0.1478718226673003,0.5686306918333522,0.1892312419409004,0.5248643667936688,0.1478718226673003],\"showlegend\":true,\"subplot\":\"polar\",\"theta\":[\"acousticness\",\"danceability\",\"instrumentalness\",\"valence\",\"acousticness\"],\"type\":\"scatterpolar\",\"fill\":\"toself\"},{\"customdata\":[[2],[2],[2],[2],[2]],\"hovertemplate\":\"<b>%{hovertext}</b><br><br>Score=%{r}<br>Feature=%{theta}<extra></extra>\",\"hovertext\":[2.0,2.0,2.0,2.0,2.0],\"legendgroup\":\"2\",\"line\":{\"color\":\"#00cc96\",\"dash\":\"solid\",\"shape\":\"spline\"},\"marker\":{\"symbol\":\"circle\"},\"mode\":\"markers+lines\",\"name\":\"2\",\"r\":[0.8509289456902408,0.3925966277352719,0.385575086777392,0.3293516693406204,0.8509289456902408],\"showlegend\":true,\"subplot\":\"polar\",\"theta\":[\"acousticness\",\"danceability\",\"instrumentalness\",\"valence\",\"acousticness\"],\"type\":\"scatterpolar\",\"fill\":\"toself\"},{\"customdata\":[[3],[3],[3],[3],[3]],\"hovertemplate\":\"<b>%{hovertext}</b><br><br>Score=%{r}<br>Feature=%{theta}<extra></extra>\",\"hovertext\":[3.0,3.0,3.0,3.0,3.0],\"legendgroup\":\"3\",\"line\":{\"color\":\"#ab63fa\",\"dash\":\"solid\",\"shape\":\"spline\"},\"marker\":{\"symbol\":\"circle\"},\"mode\":\"markers+lines\",\"name\":\"3\",\"r\":[0.4240225089417627,0.4728531478343961,0.7876587732434562,0.3323501938040211,0.4240225089417627],\"showlegend\":true,\"subplot\":\"polar\",\"theta\":[\"acousticness\",\"danceability\",\"instrumentalness\",\"valence\",\"acousticness\"],\"type\":\"scatterpolar\",\"fill\":\"toself\"}],                        {\"template\":{\"data\":{\"bar\":[{\"error_x\":{\"color\":\"#2a3f5f\"},\"error_y\":{\"color\":\"#2a3f5f\"},\"marker\":{\"line\":{\"color\":\"#E5ECF6\",\"width\":0.5},\"pattern\":{\"fillmode\":\"overlay\",\"size\":10,\"solidity\":0.2}},\"type\":\"bar\"}],\"barpolar\":[{\"marker\":{\"line\":{\"color\":\"#E5ECF6\",\"width\":0.5},\"pattern\":{\"fillmode\":\"overlay\",\"size\":10,\"solidity\":0.2}},\"type\":\"barpolar\"}],\"carpet\":[{\"aaxis\":{\"endlinecolor\":\"#2a3f5f\",\"gridcolor\":\"white\",\"linecolor\":\"white\",\"minorgridcolor\":\"white\",\"startlinecolor\":\"#2a3f5f\"},\"baxis\":{\"endlinecolor\":\"#2a3f5f\",\"gridcolor\":\"white\",\"linecolor\":\"white\",\"minorgridcolor\":\"white\",\"startlinecolor\":\"#2a3f5f\"},\"type\":\"carpet\"}],\"choropleth\":[{\"colorbar\":{\"outlinewidth\":0,\"ticks\":\"\"},\"type\":\"choropleth\"}],\"contour\":[{\"colorbar\":{\"outlinewidth\":0,\"ticks\":\"\"},\"colorscale\":[[0.0,\"#0d0887\"],[0.1111111111111111,\"#46039f\"],[0.2222222222222222,\"#7201a8\"],[0.3333333333333333,\"#9c179e\"],[0.4444444444444444,\"#bd3786\"],[0.5555555555555556,\"#d8576b\"],[0.6666666666666666,\"#ed7953\"],[0.7777777777777778,\"#fb9f3a\"],[0.8888888888888888,\"#fdca26\"],[1.0,\"#f0f921\"]],\"type\":\"contour\"}],\"contourcarpet\":[{\"colorbar\":{\"outlinewidth\":0,\"ticks\":\"\"},\"type\":\"contourcarpet\"}],\"heatmap\":[{\"colorbar\":{\"outlinewidth\":0,\"ticks\":\"\"},\"colorscale\":[[0.0,\"#0d0887\"],[0.1111111111111111,\"#46039f\"],[0.2222222222222222,\"#7201a8\"],[0.3333333333333333,\"#9c179e\"],[0.4444444444444444,\"#bd3786\"],[0.5555555555555556,\"#d8576b\"],[0.6666666666666666,\"#ed7953\"],[0.7777777777777778,\"#fb9f3a\"],[0.8888888888888888,\"#fdca26\"],[1.0,\"#f0f921\"]],\"type\":\"heatmap\"}],\"heatmapgl\":[{\"colorbar\":{\"outlinewidth\":0,\"ticks\":\"\"},\"colorscale\":[[0.0,\"#0d0887\"],[0.1111111111111111,\"#46039f\"],[0.2222222222222222,\"#7201a8\"],[0.3333333333333333,\"#9c179e\"],[0.4444444444444444,\"#bd3786\"],[0.5555555555555556,\"#d8576b\"],[0.6666666666666666,\"#ed7953\"],[0.7777777777777778,\"#fb9f3a\"],[0.8888888888888888,\"#fdca26\"],[1.0,\"#f0f921\"]],\"type\":\"heatmapgl\"}],\"histogram\":[{\"marker\":{\"pattern\":{\"fillmode\":\"overlay\",\"size\":10,\"solidity\":0.2}},\"type\":\"histogram\"}],\"histogram2d\":[{\"colorbar\":{\"outlinewidth\":0,\"ticks\":\"\"},\"colorscale\":[[0.0,\"#0d0887\"],[0.1111111111111111,\"#46039f\"],[0.2222222222222222,\"#7201a8\"],[0.3333333333333333,\"#9c179e\"],[0.4444444444444444,\"#bd3786\"],[0.5555555555555556,\"#d8576b\"],[0.6666666666666666,\"#ed7953\"],[0.7777777777777778,\"#fb9f3a\"],[0.8888888888888888,\"#fdca26\"],[1.0,\"#f0f921\"]],\"type\":\"histogram2d\"}],\"histogram2dcontour\":[{\"colorbar\":{\"outlinewidth\":0,\"ticks\":\"\"},\"colorscale\":[[0.0,\"#0d0887\"],[0.1111111111111111,\"#46039f\"],[0.2222222222222222,\"#7201a8\"],[0.3333333333333333,\"#9c179e\"],[0.4444444444444444,\"#bd3786\"],[0.5555555555555556,\"#d8576b\"],[0.6666666666666666,\"#ed7953\"],[0.7777777777777778,\"#fb9f3a\"],[0.8888888888888888,\"#fdca26\"],[1.0,\"#f0f921\"]],\"type\":\"histogram2dcontour\"}],\"mesh3d\":[{\"colorbar\":{\"outlinewidth\":0,\"ticks\":\"\"},\"type\":\"mesh3d\"}],\"parcoords\":[{\"line\":{\"colorbar\":{\"outlinewidth\":0,\"ticks\":\"\"}},\"type\":\"parcoords\"}],\"pie\":[{\"automargin\":true,\"type\":\"pie\"}],\"scatter\":[{\"marker\":{\"colorbar\":{\"outlinewidth\":0,\"ticks\":\"\"}},\"type\":\"scatter\"}],\"scatter3d\":[{\"line\":{\"colorbar\":{\"outlinewidth\":0,\"ticks\":\"\"}},\"marker\":{\"colorbar\":{\"outlinewidth\":0,\"ticks\":\"\"}},\"type\":\"scatter3d\"}],\"scattercarpet\":[{\"marker\":{\"colorbar\":{\"outlinewidth\":0,\"ticks\":\"\"}},\"type\":\"scattercarpet\"}],\"scattergeo\":[{\"marker\":{\"colorbar\":{\"outlinewidth\":0,\"ticks\":\"\"}},\"type\":\"scattergeo\"}],\"scattergl\":[{\"marker\":{\"colorbar\":{\"outlinewidth\":0,\"ticks\":\"\"}},\"type\":\"scattergl\"}],\"scattermapbox\":[{\"marker\":{\"colorbar\":{\"outlinewidth\":0,\"ticks\":\"\"}},\"type\":\"scattermapbox\"}],\"scatterpolar\":[{\"marker\":{\"colorbar\":{\"outlinewidth\":0,\"ticks\":\"\"}},\"type\":\"scatterpolar\"}],\"scatterpolargl\":[{\"marker\":{\"colorbar\":{\"outlinewidth\":0,\"ticks\":\"\"}},\"type\":\"scatterpolargl\"}],\"scatterternary\":[{\"marker\":{\"colorbar\":{\"outlinewidth\":0,\"ticks\":\"\"}},\"type\":\"scatterternary\"}],\"surface\":[{\"colorbar\":{\"outlinewidth\":0,\"ticks\":\"\"},\"colorscale\":[[0.0,\"#0d0887\"],[0.1111111111111111,\"#46039f\"],[0.2222222222222222,\"#7201a8\"],[0.3333333333333333,\"#9c179e\"],[0.4444444444444444,\"#bd3786\"],[0.5555555555555556,\"#d8576b\"],[0.6666666666666666,\"#ed7953\"],[0.7777777777777778,\"#fb9f3a\"],[0.8888888888888888,\"#fdca26\"],[1.0,\"#f0f921\"]],\"type\":\"surface\"}],\"table\":[{\"cells\":{\"fill\":{\"color\":\"#EBF0F8\"},\"line\":{\"color\":\"white\"}},\"header\":{\"fill\":{\"color\":\"#C8D4E3\"},\"line\":{\"color\":\"white\"}},\"type\":\"table\"}]},\"layout\":{\"annotationdefaults\":{\"arrowcolor\":\"#2a3f5f\",\"arrowhead\":0,\"arrowwidth\":1},\"autotypenumbers\":\"strict\",\"coloraxis\":{\"colorbar\":{\"outlinewidth\":0,\"ticks\":\"\"}},\"colorscale\":{\"diverging\":[[0,\"#8e0152\"],[0.1,\"#c51b7d\"],[0.2,\"#de77ae\"],[0.3,\"#f1b6da\"],[0.4,\"#fde0ef\"],[0.5,\"#f7f7f7\"],[0.6,\"#e6f5d0\"],[0.7,\"#b8e186\"],[0.8,\"#7fbc41\"],[0.9,\"#4d9221\"],[1,\"#276419\"]],\"sequential\":[[0.0,\"#0d0887\"],[0.1111111111111111,\"#46039f\"],[0.2222222222222222,\"#7201a8\"],[0.3333333333333333,\"#9c179e\"],[0.4444444444444444,\"#bd3786\"],[0.5555555555555556,\"#d8576b\"],[0.6666666666666666,\"#ed7953\"],[0.7777777777777778,\"#fb9f3a\"],[0.8888888888888888,\"#fdca26\"],[1.0,\"#f0f921\"]],\"sequentialminus\":[[0.0,\"#0d0887\"],[0.1111111111111111,\"#46039f\"],[0.2222222222222222,\"#7201a8\"],[0.3333333333333333,\"#9c179e\"],[0.4444444444444444,\"#bd3786\"],[0.5555555555555556,\"#d8576b\"],[0.6666666666666666,\"#ed7953\"],[0.7777777777777778,\"#fb9f3a\"],[0.8888888888888888,\"#fdca26\"],[1.0,\"#f0f921\"]]},\"colorway\":[\"#636efa\",\"#EF553B\",\"#00cc96\",\"#ab63fa\",\"#FFA15A\",\"#19d3f3\",\"#FF6692\",\"#B6E880\",\"#FF97FF\",\"#FECB52\"],\"font\":{\"color\":\"#2a3f5f\"},\"geo\":{\"bgcolor\":\"white\",\"lakecolor\":\"white\",\"landcolor\":\"#E5ECF6\",\"showlakes\":true,\"showland\":true,\"subunitcolor\":\"white\"},\"hoverlabel\":{\"align\":\"left\"},\"hovermode\":\"closest\",\"mapbox\":{\"style\":\"light\"},\"paper_bgcolor\":\"white\",\"plot_bgcolor\":\"#E5ECF6\",\"polar\":{\"angularaxis\":{\"gridcolor\":\"white\",\"linecolor\":\"white\",\"ticks\":\"\"},\"bgcolor\":\"#E5ECF6\",\"radialaxis\":{\"gridcolor\":\"white\",\"linecolor\":\"white\",\"ticks\":\"\"}},\"scene\":{\"xaxis\":{\"backgroundcolor\":\"#E5ECF6\",\"gridcolor\":\"white\",\"gridwidth\":2,\"linecolor\":\"white\",\"showbackground\":true,\"ticks\":\"\",\"zerolinecolor\":\"white\"},\"yaxis\":{\"backgroundcolor\":\"#E5ECF6\",\"gridcolor\":\"white\",\"gridwidth\":2,\"linecolor\":\"white\",\"showbackground\":true,\"ticks\":\"\",\"zerolinecolor\":\"white\"},\"zaxis\":{\"backgroundcolor\":\"#E5ECF6\",\"gridcolor\":\"white\",\"gridwidth\":2,\"linecolor\":\"white\",\"showbackground\":true,\"ticks\":\"\",\"zerolinecolor\":\"white\"}},\"shapedefaults\":{\"line\":{\"color\":\"#2a3f5f\"}},\"ternary\":{\"aaxis\":{\"gridcolor\":\"white\",\"linecolor\":\"white\",\"ticks\":\"\"},\"baxis\":{\"gridcolor\":\"white\",\"linecolor\":\"white\",\"ticks\":\"\"},\"bgcolor\":\"#E5ECF6\",\"caxis\":{\"gridcolor\":\"white\",\"linecolor\":\"white\",\"ticks\":\"\"}},\"title\":{\"x\":0.05},\"xaxis\":{\"automargin\":true,\"gridcolor\":\"white\",\"linecolor\":\"white\",\"ticks\":\"\",\"title\":{\"standoff\":15},\"zerolinecolor\":\"white\",\"zerolinewidth\":2},\"yaxis\":{\"automargin\":true,\"gridcolor\":\"white\",\"linecolor\":\"white\",\"ticks\":\"\",\"title\":{\"standoff\":15},\"zerolinecolor\":\"white\",\"zerolinewidth\":2}}},\"polar\":{\"domain\":{\"x\":[0.0,1.0],\"y\":[0.0,1.0]},\"angularaxis\":{\"direction\":\"clockwise\",\"rotation\":90},\"radialaxis\":{\"range\":[0,1]}},\"legend\":{\"title\":{\"text\":\"kmeans_labels\"},\"tracegroupgap\":0},\"margin\":{\"t\":60}},                        {\"responsive\": true}                    ).then(function(){\n",
       "                            \n",
       "var gd = document.getElementById('43d15114-976a-4b3e-9c7d-458c109a6d8e');\n",
       "var x = new MutationObserver(function (mutations, observer) {{\n",
       "        var display = window.getComputedStyle(gd).display;\n",
       "        if (!display || display === 'none') {{\n",
       "            console.log([gd, 'removed!']);\n",
       "            Plotly.purge(gd);\n",
       "            observer.disconnect();\n",
       "        }}\n",
       "}});\n",
       "\n",
       "// Listen for the removal of the full notebook cells\n",
       "var notebookContainer = gd.closest('#notebook-container');\n",
       "if (notebookContainer) {{\n",
       "    x.observe(notebookContainer, {childList: true});\n",
       "}}\n",
       "\n",
       "// Listen for the clearing of the current output cell\n",
       "var outputEl = gd.closest('.output');\n",
       "if (outputEl) {{\n",
       "    x.observe(outputEl, {childList: true});\n",
       "}}\n",
       "\n",
       "                        })                };                });            </script>        </div>"
      ]
     },
     "metadata": {},
     "output_type": "display_data"
    }
   ],
   "source": [
    "# plot on a single chart\n",
    "\n",
    "import warnings\n",
    "\n",
    "import plotly.express as px\n",
    "\n",
    "warnings.simplefilter(action='ignore', category=FutureWarning)\n",
    "\n",
    "fig = px.line_polar(df_reduced,\n",
    "        r='score',\n",
    "        theta='category', \n",
    "        color='kmeans_labels', \n",
    "        line_close=True,\n",
    "        line_shape='spline',  # or linear\n",
    "        hover_name='kmeans_labels',\n",
    "        hover_data={'kmeans_labels':False},\n",
    "        markers=True,\n",
    "        labels= {'category':'Feature', 'score':'Score'},\n",
    "        # text='kmeans_labels',   \n",
    "        range_r=[0,1], \n",
    "        direction='clockwise',  # or counterclockwise\n",
    "        start_angle=90\n",
    "\n",
    ")\n",
    "\n",
    "# fill in the area between the line and the axis\n",
    "fig.update_traces(fill='toself') \n",
    "\n",
    "fig.show()"
   ]
  },
  {
   "cell_type": "markdown",
   "id": "d42b7a2d",
   "metadata": {},
   "source": [
    "### 3.2 Understanding the Clusters   <a id=\"3.2\"></a>\n",
    "\n",
    "We have calculated feature means for each cluster, now we will bring in the track_ids and 'human' genre tags from notebook 1 so that we can conceptualise and understand the clusters.\n",
    "\n",
    "Clusters are analysed below and song examples provided, note that clusters are analysed based on MEANS and therefore songs may vary across some features against the descriptions provided for the cluster they are in, but they should tend towards the mean and largely sound like the cluster profile indicates.\n",
    "\n",
    "We have provided example songs to listen to in the codeblocks below, using the follow process (which can be replicated by the reader):\n",
    "\n",
    "1. Filter on the dataframe pivot table provided below for 1. the desired cluster and 2. the desired 'human genre'\n",
    "2. Double click on the track_id and copy any track_id from the list of tracks provided from on the chosen filters\n",
    "3. Paste the track_id into the spotify url at the end of the webbrowser codeblock and run codeblock to listen\n",
    "\n",
    "\n"
   ]
  },
  {
   "cell_type": "code",
   "execution_count": 109,
   "id": "0793c362",
   "metadata": {
    "scrolled": true
   },
   "outputs": [
    {
     "data": {
      "text/html": [
       "<div>\n",
       "<style scoped>\n",
       "    .dataframe tbody tr th:only-of-type {\n",
       "        vertical-align: middle;\n",
       "    }\n",
       "\n",
       "    .dataframe tbody tr th {\n",
       "        vertical-align: top;\n",
       "    }\n",
       "\n",
       "    .dataframe thead th {\n",
       "        text-align: right;\n",
       "    }\n",
       "</style>\n",
       "<table border=\"1\" class=\"dataframe\">\n",
       "  <thead>\n",
       "    <tr style=\"text-align: right;\">\n",
       "      <th></th>\n",
       "      <th>kmeans_labels</th>\n",
       "      <th>genre_group</th>\n",
       "      <th>track_id</th>\n",
       "    </tr>\n",
       "  </thead>\n",
       "  <tbody>\n",
       "    <tr>\n",
       "      <th>0</th>\n",
       "      <td>1</td>\n",
       "      <td>rap/hiphop</td>\n",
       "      <td>5CMN9BOEdo8EWoEnMuxvfs</td>\n",
       "    </tr>\n",
       "    <tr>\n",
       "      <th>1</th>\n",
       "      <td>1</td>\n",
       "      <td>rap/hiphop</td>\n",
       "      <td>122VGKCzTh6G0QIu8e4lka</td>\n",
       "    </tr>\n",
       "    <tr>\n",
       "      <th>2</th>\n",
       "      <td>1</td>\n",
       "      <td>rap/hiphop</td>\n",
       "      <td>4iAusuifPGTnYbxgdINuDE</td>\n",
       "    </tr>\n",
       "    <tr>\n",
       "      <th>3</th>\n",
       "      <td>1</td>\n",
       "      <td>rap/hiphop</td>\n",
       "      <td>3OmiK2O1NtFXbY18CZC3r2</td>\n",
       "    </tr>\n",
       "    <tr>\n",
       "      <th>4</th>\n",
       "      <td>0</td>\n",
       "      <td>rap/hiphop</td>\n",
       "      <td>1T8Qcl9NYcbIQ4CUYfnzGO</td>\n",
       "    </tr>\n",
       "  </tbody>\n",
       "</table>\n",
       "</div>"
      ],
      "text/plain": [
       "   kmeans_labels genre_group                track_id\n",
       "0              1  rap/hiphop  5CMN9BOEdo8EWoEnMuxvfs\n",
       "1              1  rap/hiphop  122VGKCzTh6G0QIu8e4lka\n",
       "2              1  rap/hiphop  4iAusuifPGTnYbxgdINuDE\n",
       "3              1  rap/hiphop  3OmiK2O1NtFXbY18CZC3r2\n",
       "4              0  rap/hiphop  1T8Qcl9NYcbIQ4CUYfnzGO"
      ]
     },
     "execution_count": 109,
     "metadata": {},
     "output_type": "execute_result"
    }
   ],
   "source": [
    "# read back in tracks_genres_df_cleaned for genre and track labels\n",
    "genres_df = pd.read_csv('../data/tracks_genres_df_cleaned.csv', index_col=0)\n",
    "\n",
    "# join the genres onto the kmeans results dataframe\n",
    "genre_col = genres_df[['genre_group', 'track_id']]\n",
    "genre_col.reset_index(drop=True,inplace=True)\n",
    "kmeans_df_w_genres = kmeans_df.join(genre_col)\n",
    "kmeans_df_w_genres[['kmeans_labels', 'genre_group', 'track_id']].head()"
   ]
  },
  {
   "cell_type": "code",
   "execution_count": 110,
   "id": "ece28559",
   "metadata": {
    "scrolled": false
   },
   "outputs": [
    {
     "data": {
      "text/html": [
       "<div>\n",
       "<style scoped>\n",
       "    .dataframe tbody tr th:only-of-type {\n",
       "        vertical-align: middle;\n",
       "    }\n",
       "\n",
       "    .dataframe tbody tr th {\n",
       "        vertical-align: top;\n",
       "    }\n",
       "\n",
       "    .dataframe thead th {\n",
       "        text-align: right;\n",
       "    }\n",
       "</style>\n",
       "<table border=\"1\" class=\"dataframe\">\n",
       "  <thead>\n",
       "    <tr style=\"text-align: right;\">\n",
       "      <th>kmeans_labels</th>\n",
       "      <th>0</th>\n",
       "      <th>1</th>\n",
       "      <th>2</th>\n",
       "      <th>3</th>\n",
       "    </tr>\n",
       "    <tr>\n",
       "      <th>genre_group</th>\n",
       "      <th></th>\n",
       "      <th></th>\n",
       "      <th></th>\n",
       "      <th></th>\n",
       "    </tr>\n",
       "  </thead>\n",
       "  <tbody>\n",
       "    <tr>\n",
       "      <th>asian pop</th>\n",
       "      <td>1103</td>\n",
       "      <td>1762</td>\n",
       "      <td>989</td>\n",
       "      <td>46</td>\n",
       "    </tr>\n",
       "    <tr>\n",
       "      <th>ballroom</th>\n",
       "      <td>937</td>\n",
       "      <td>1063</td>\n",
       "      <td>1101</td>\n",
       "      <td>398</td>\n",
       "    </tr>\n",
       "    <tr>\n",
       "      <th>blues</th>\n",
       "      <td>482</td>\n",
       "      <td>704</td>\n",
       "      <td>592</td>\n",
       "      <td>75</td>\n",
       "    </tr>\n",
       "    <tr>\n",
       "      <th>caribbean</th>\n",
       "      <td>1642</td>\n",
       "      <td>2168</td>\n",
       "      <td>109</td>\n",
       "      <td>95</td>\n",
       "    </tr>\n",
       "    <tr>\n",
       "      <th>classical</th>\n",
       "      <td>1139</td>\n",
       "      <td>92</td>\n",
       "      <td>9798</td>\n",
       "      <td>3306</td>\n",
       "    </tr>\n",
       "    <tr>\n",
       "      <th>country</th>\n",
       "      <td>306</td>\n",
       "      <td>2033</td>\n",
       "      <td>751</td>\n",
       "      <td>19</td>\n",
       "    </tr>\n",
       "    <tr>\n",
       "      <th>dance</th>\n",
       "      <td>1342</td>\n",
       "      <td>2851</td>\n",
       "      <td>185</td>\n",
       "      <td>1473</td>\n",
       "    </tr>\n",
       "    <tr>\n",
       "      <th>disco</th>\n",
       "      <td>205</td>\n",
       "      <td>293</td>\n",
       "      <td>18</td>\n",
       "      <td>95</td>\n",
       "    </tr>\n",
       "    <tr>\n",
       "      <th>edm</th>\n",
       "      <td>1063</td>\n",
       "      <td>2824</td>\n",
       "      <td>76</td>\n",
       "      <td>1783</td>\n",
       "    </tr>\n",
       "    <tr>\n",
       "      <th>electro</th>\n",
       "      <td>1141</td>\n",
       "      <td>2191</td>\n",
       "      <td>307</td>\n",
       "      <td>1039</td>\n",
       "    </tr>\n",
       "    <tr>\n",
       "      <th>folk</th>\n",
       "      <td>1929</td>\n",
       "      <td>1791</td>\n",
       "      <td>2590</td>\n",
       "      <td>386</td>\n",
       "    </tr>\n",
       "    <tr>\n",
       "      <th>funk</th>\n",
       "      <td>499</td>\n",
       "      <td>1000</td>\n",
       "      <td>68</td>\n",
       "      <td>445</td>\n",
       "    </tr>\n",
       "    <tr>\n",
       "      <th>gospel</th>\n",
       "      <td>544</td>\n",
       "      <td>1604</td>\n",
       "      <td>1133</td>\n",
       "      <td>20</td>\n",
       "    </tr>\n",
       "    <tr>\n",
       "      <th>hardcore_rock</th>\n",
       "      <td>1643</td>\n",
       "      <td>3089</td>\n",
       "      <td>216</td>\n",
       "      <td>988</td>\n",
       "    </tr>\n",
       "    <tr>\n",
       "      <th>indie</th>\n",
       "      <td>1438</td>\n",
       "      <td>3676</td>\n",
       "      <td>1260</td>\n",
       "      <td>393</td>\n",
       "    </tr>\n",
       "    <tr>\n",
       "      <th>jazz</th>\n",
       "      <td>1420</td>\n",
       "      <td>1260</td>\n",
       "      <td>2910</td>\n",
       "      <td>1492</td>\n",
       "    </tr>\n",
       "    <tr>\n",
       "      <th>latin</th>\n",
       "      <td>1499</td>\n",
       "      <td>3061</td>\n",
       "      <td>512</td>\n",
       "      <td>129</td>\n",
       "    </tr>\n",
       "    <tr>\n",
       "      <th>pop</th>\n",
       "      <td>1896</td>\n",
       "      <td>2841</td>\n",
       "      <td>1201</td>\n",
       "      <td>301</td>\n",
       "    </tr>\n",
       "    <tr>\n",
       "      <th>rap/hiphop</th>\n",
       "      <td>2634</td>\n",
       "      <td>3645</td>\n",
       "      <td>207</td>\n",
       "      <td>262</td>\n",
       "    </tr>\n",
       "    <tr>\n",
       "      <th>reggae</th>\n",
       "      <td>204</td>\n",
       "      <td>261</td>\n",
       "      <td>17</td>\n",
       "      <td>11</td>\n",
       "    </tr>\n",
       "    <tr>\n",
       "      <th>rnb</th>\n",
       "      <td>283</td>\n",
       "      <td>285</td>\n",
       "      <td>153</td>\n",
       "      <td>18</td>\n",
       "    </tr>\n",
       "    <tr>\n",
       "      <th>rock</th>\n",
       "      <td>2543</td>\n",
       "      <td>6789</td>\n",
       "      <td>1455</td>\n",
       "      <td>827</td>\n",
       "    </tr>\n",
       "    <tr>\n",
       "      <th>ska</th>\n",
       "      <td>190</td>\n",
       "      <td>430</td>\n",
       "      <td>16</td>\n",
       "      <td>22</td>\n",
       "    </tr>\n",
       "    <tr>\n",
       "      <th>soul</th>\n",
       "      <td>449</td>\n",
       "      <td>536</td>\n",
       "      <td>142</td>\n",
       "      <td>71</td>\n",
       "    </tr>\n",
       "    <tr>\n",
       "      <th>trap</th>\n",
       "      <td>988</td>\n",
       "      <td>1114</td>\n",
       "      <td>51</td>\n",
       "      <td>79</td>\n",
       "    </tr>\n",
       "  </tbody>\n",
       "</table>\n",
       "</div>"
      ],
      "text/plain": [
       "kmeans_labels     0     1     2     3\n",
       "genre_group                          \n",
       "asian pop      1103  1762   989    46\n",
       "ballroom        937  1063  1101   398\n",
       "blues           482   704   592    75\n",
       "caribbean      1642  2168   109    95\n",
       "classical      1139    92  9798  3306\n",
       "country         306  2033   751    19\n",
       "dance          1342  2851   185  1473\n",
       "disco           205   293    18    95\n",
       "edm            1063  2824    76  1783\n",
       "electro        1141  2191   307  1039\n",
       "folk           1929  1791  2590   386\n",
       "funk            499  1000    68   445\n",
       "gospel          544  1604  1133    20\n",
       "hardcore_rock  1643  3089   216   988\n",
       "indie          1438  3676  1260   393\n",
       "jazz           1420  1260  2910  1492\n",
       "latin          1499  3061   512   129\n",
       "pop            1896  2841  1201   301\n",
       "rap/hiphop     2634  3645   207   262\n",
       "reggae          204   261    17    11\n",
       "rnb             283   285   153    18\n",
       "rock           2543  6789  1455   827\n",
       "ska             190   430    16    22\n",
       "soul            449   536   142    71\n",
       "trap            988  1114    51    79"
      ]
     },
     "execution_count": 110,
     "metadata": {},
     "output_type": "execute_result"
    }
   ],
   "source": [
    "kmeans_df_w_genres_grouped = kmeans_df_w_genres.groupby(['kmeans_labels'])['genre_group'].value_counts().unstack(fill_value=0)\n",
    "kmeans_df_w_genres_grouped.T"
   ]
  },
  {
   "cell_type": "markdown",
   "id": "be826ad7",
   "metadata": {},
   "source": [
    "#### The following is for track selection within clusters, as described above"
   ]
  },
  {
   "cell_type": "code",
   "execution_count": 158,
   "id": "0e84544e",
   "metadata": {
    "scrolled": false
   },
   "outputs": [
    {
     "data": {
      "application/vnd.jupyter.widget-view+json": {
       "model_id": "cabf5fe28b22427c964619378928ccaf",
       "version_major": 2,
       "version_minor": 0
      },
      "text/plain": [
       "QgridWidget(grid_options={'fullWidthRows': True, 'syncColumnCellResize': True, 'forceFitColumns': True, 'defau…"
      ]
     },
     "metadata": {},
     "output_type": "display_data"
    }
   ],
   "source": [
    "# for use in this notebook, to pivot clusters and tracks to listen in spotify\n",
    "qgrid_widget = qgrid.show_grid(kmeans_df_w_genres[['kmeans_labels', 'genre_group', 'track_id']], show_toolbar=True)\n",
    "qgrid_widget"
   ]
  },
  {
   "cell_type": "code",
   "execution_count": 127,
   "id": "b87bf48a",
   "metadata": {},
   "outputs": [
    {
     "data": {
      "text/html": [
       "<div>\n",
       "<style scoped>\n",
       "    .dataframe tbody tr th:only-of-type {\n",
       "        vertical-align: middle;\n",
       "    }\n",
       "\n",
       "    .dataframe tbody tr th {\n",
       "        vertical-align: top;\n",
       "    }\n",
       "\n",
       "    .dataframe thead th {\n",
       "        text-align: right;\n",
       "    }\n",
       "</style>\n",
       "<table border=\"1\" class=\"dataframe\">\n",
       "  <thead>\n",
       "    <tr style=\"text-align: right;\">\n",
       "      <th></th>\n",
       "      <th>kmeans_labels</th>\n",
       "      <th>acousticness</th>\n",
       "      <th>danceability</th>\n",
       "      <th>instrumentalness</th>\n",
       "      <th>valence</th>\n",
       "    </tr>\n",
       "  </thead>\n",
       "  <tbody>\n",
       "    <tr>\n",
       "      <th>0</th>\n",
       "      <td>0</td>\n",
       "      <td>0.288034</td>\n",
       "      <td>0.564322</td>\n",
       "      <td>0.039570</td>\n",
       "      <td>0.517556</td>\n",
       "    </tr>\n",
       "    <tr>\n",
       "      <th>1</th>\n",
       "      <td>1</td>\n",
       "      <td>0.147872</td>\n",
       "      <td>0.568631</td>\n",
       "      <td>0.189231</td>\n",
       "      <td>0.524864</td>\n",
       "    </tr>\n",
       "    <tr>\n",
       "      <th>2</th>\n",
       "      <td>2</td>\n",
       "      <td>0.850929</td>\n",
       "      <td>0.392597</td>\n",
       "      <td>0.385575</td>\n",
       "      <td>0.329352</td>\n",
       "    </tr>\n",
       "    <tr>\n",
       "      <th>3</th>\n",
       "      <td>3</td>\n",
       "      <td>0.424023</td>\n",
       "      <td>0.472853</td>\n",
       "      <td>0.787659</td>\n",
       "      <td>0.332350</td>\n",
       "    </tr>\n",
       "  </tbody>\n",
       "</table>\n",
       "</div>"
      ],
      "text/plain": [
       "   kmeans_labels  acousticness  danceability  instrumentalness   valence\n",
       "0              0      0.288034      0.564322          0.039570  0.517556\n",
       "1              1      0.147872      0.568631          0.189231  0.524864\n",
       "2              2      0.850929      0.392597          0.385575  0.329352\n",
       "3              3      0.424023      0.472853          0.787659  0.332350"
      ]
     },
     "execution_count": 127,
     "metadata": {},
     "output_type": "execute_result"
    }
   ],
   "source": [
    "# look at feature means across clusters for 4 most important features\n",
    "feature_means_kmeans_reduced"
   ]
  },
  {
   "cell_type": "markdown",
   "id": "d8c452c7",
   "metadata": {},
   "source": [
    "#### A Note on Acousticness and Instrumentalness\n",
    "\n",
    "**Acousticness** can be thought of in terms of \"plugged\" vs \"unplugged\". An acoustic musical session is \"unplugged\" i.e. played with acoustic instruments and therefore having a more 'natural' analogue sound. Conversely a \"plugged\" musical session is one played with electric/ digital instruments/ methods and have a more electric sound.\n",
    "\n",
    "**Instrumentalness** (as described in the features dictionary at the beginning of this notebook) is defined on a 0-1 scale as follows:\n",
    "\n",
    "- 'vocal' (low instrumentalness)\n",
    "- 'instrumental' (medium to high instrumentalness)\n",
    "\n",
    "According to the feature dictionary, an instrumental track is defined as anything from 0.5 upwards on the 0-1 scale. \n",
    "\n",
    "Instrumentalness in the mid-range may contain some vocals. A fully instrulmental track with no vocals has value 1. A vocal track has with no intrumentals has value 0."
   ]
  },
  {
   "cell_type": "code",
   "execution_count": 128,
   "id": "610769e3",
   "metadata": {},
   "outputs": [
    {
     "data": {
      "text/html": [
       "<div>\n",
       "<style scoped>\n",
       "    .dataframe tbody tr th:only-of-type {\n",
       "        vertical-align: middle;\n",
       "    }\n",
       "\n",
       "    .dataframe tbody tr th {\n",
       "        vertical-align: top;\n",
       "    }\n",
       "\n",
       "    .dataframe thead th {\n",
       "        text-align: right;\n",
       "    }\n",
       "</style>\n",
       "<table border=\"1\" class=\"dataframe\">\n",
       "  <thead>\n",
       "    <tr style=\"text-align: right;\">\n",
       "      <th></th>\n",
       "      <th>min</th>\n",
       "      <th>max</th>\n",
       "    </tr>\n",
       "  </thead>\n",
       "  <tbody>\n",
       "    <tr>\n",
       "      <th>kmeans_labels</th>\n",
       "      <td>0.000000</td>\n",
       "      <td>3.000000</td>\n",
       "    </tr>\n",
       "    <tr>\n",
       "      <th>acousticness</th>\n",
       "      <td>0.147872</td>\n",
       "      <td>0.850929</td>\n",
       "    </tr>\n",
       "    <tr>\n",
       "      <th>danceability</th>\n",
       "      <td>0.392597</td>\n",
       "      <td>0.568631</td>\n",
       "    </tr>\n",
       "    <tr>\n",
       "      <th>instrumentalness</th>\n",
       "      <td>0.039570</td>\n",
       "      <td>0.787659</td>\n",
       "    </tr>\n",
       "    <tr>\n",
       "      <th>valence</th>\n",
       "      <td>0.329352</td>\n",
       "      <td>0.524864</td>\n",
       "    </tr>\n",
       "  </tbody>\n",
       "</table>\n",
       "</div>"
      ],
      "text/plain": [
       "                       min       max\n",
       "kmeans_labels     0.000000  3.000000\n",
       "acousticness      0.147872  0.850929\n",
       "danceability      0.392597  0.568631\n",
       "instrumentalness  0.039570  0.787659\n",
       "valence           0.329352  0.524864"
      ]
     },
     "execution_count": 128,
     "metadata": {},
     "output_type": "execute_result"
    }
   ],
   "source": [
    "# remind ourselves of feature ranges\n",
    "min_max_df_reduced = feature_means_kmeans_reduced.agg(['min', 'max'], axis=0).T\n",
    "min_max_df_reduced"
   ]
  },
  {
   "cell_type": "code",
   "execution_count": 194,
   "id": "dcaa2a75",
   "metadata": {
    "scrolled": true
   },
   "outputs": [
    {
     "data": {
      "text/html": [
       "<div>\n",
       "<style scoped>\n",
       "    .dataframe tbody tr th:only-of-type {\n",
       "        vertical-align: middle;\n",
       "    }\n",
       "\n",
       "    .dataframe tbody tr th {\n",
       "        vertical-align: top;\n",
       "    }\n",
       "\n",
       "    .dataframe thead th {\n",
       "        text-align: right;\n",
       "    }\n",
       "</style>\n",
       "<table border=\"1\" class=\"dataframe\">\n",
       "  <thead>\n",
       "    <tr style=\"text-align: right;\">\n",
       "      <th></th>\n",
       "      <th>acousticness</th>\n",
       "      <th>instrumentalness</th>\n",
       "    </tr>\n",
       "  </thead>\n",
       "  <tbody>\n",
       "    <tr>\n",
       "      <th>0</th>\n",
       "      <td>MEDIUM</td>\n",
       "      <td>LOW</td>\n",
       "    </tr>\n",
       "    <tr>\n",
       "      <th>1</th>\n",
       "      <td>LOW</td>\n",
       "      <td>MEDIUM</td>\n",
       "    </tr>\n",
       "    <tr>\n",
       "      <th>2</th>\n",
       "      <td>HIGH</td>\n",
       "      <td>MEDIUM</td>\n",
       "    </tr>\n",
       "    <tr>\n",
       "      <th>3</th>\n",
       "      <td>MEDIUM</td>\n",
       "      <td>HIGH</td>\n",
       "    </tr>\n",
       "  </tbody>\n",
       "</table>\n",
       "</div>"
      ],
      "text/plain": [
       "  acousticness instrumentalness\n",
       "0       MEDIUM              LOW\n",
       "1          LOW           MEDIUM\n",
       "2         HIGH           MEDIUM\n",
       "3       MEDIUM             HIGH"
      ]
     },
     "execution_count": 194,
     "metadata": {},
     "output_type": "execute_result"
    }
   ],
   "source": [
    "# create bins of lows and highs for wider range features (acousticness and instrumentalness)\n",
    "bins = [0.0, 0.15, 0.45, 1.0]    \n",
    "labels = [\"LOW\", \"MEDIUM\", \"HIGH\"]\n",
    "ser = range(0,7)\n",
    "clusters_features_df = pd.DataFrame(data=ser, index=[0,1,2,3,4,5,6])\n",
    "\n",
    "for f in list(feature_means_kmeans_reduced[['acousticness','instrumentalness']]):\n",
    "    feature_df = pd.cut(feature_means_kmeans_reduced[f], bins=bins, labels=labels)\n",
    "    clusters_features_df = pd.concat([clusters_features_df,feature_df], axis=1, join='inner')\n",
    "clusters_features_df = clusters_features_df.drop(columns=[0])\n",
    "clusters_features_df"
   ]
  },
  {
   "cell_type": "code",
   "execution_count": 195,
   "id": "a1d5995b",
   "metadata": {
    "scrolled": true
   },
   "outputs": [
    {
     "data": {
      "text/html": [
       "<div>\n",
       "<style scoped>\n",
       "    .dataframe tbody tr th:only-of-type {\n",
       "        vertical-align: middle;\n",
       "    }\n",
       "\n",
       "    .dataframe tbody tr th {\n",
       "        vertical-align: top;\n",
       "    }\n",
       "\n",
       "    .dataframe thead th {\n",
       "        text-align: right;\n",
       "    }\n",
       "</style>\n",
       "<table border=\"1\" class=\"dataframe\">\n",
       "  <thead>\n",
       "    <tr style=\"text-align: right;\">\n",
       "      <th></th>\n",
       "      <th>acousticness</th>\n",
       "      <th>instrumentalness</th>\n",
       "      <th>danceability</th>\n",
       "      <th>valence</th>\n",
       "    </tr>\n",
       "  </thead>\n",
       "  <tbody>\n",
       "    <tr>\n",
       "      <th>0</th>\n",
       "      <td>MEDIUM</td>\n",
       "      <td>LOW</td>\n",
       "      <td>HIGH</td>\n",
       "      <td>HIGH</td>\n",
       "    </tr>\n",
       "    <tr>\n",
       "      <th>1</th>\n",
       "      <td>LOW</td>\n",
       "      <td>MEDIUM</td>\n",
       "      <td>HIGH</td>\n",
       "      <td>HIGH</td>\n",
       "    </tr>\n",
       "    <tr>\n",
       "      <th>2</th>\n",
       "      <td>HIGH</td>\n",
       "      <td>MEDIUM</td>\n",
       "      <td>LOW</td>\n",
       "      <td>LOW</td>\n",
       "    </tr>\n",
       "    <tr>\n",
       "      <th>3</th>\n",
       "      <td>MEDIUM</td>\n",
       "      <td>HIGH</td>\n",
       "      <td>MEDIUM</td>\n",
       "      <td>LOW</td>\n",
       "    </tr>\n",
       "  </tbody>\n",
       "</table>\n",
       "</div>"
      ],
      "text/plain": [
       "  acousticness instrumentalness danceability valence\n",
       "0       MEDIUM              LOW         HIGH    HIGH\n",
       "1          LOW           MEDIUM         HIGH    HIGH\n",
       "2         HIGH           MEDIUM          LOW     LOW\n",
       "3       MEDIUM             HIGH       MEDIUM     LOW"
      ]
     },
     "execution_count": 195,
     "metadata": {},
     "output_type": "execute_result"
    }
   ],
   "source": [
    "# create bins of lows and highs for narrow range features (danceability and valence)\n",
    "bins = [0.0, 0.4, 0.5, 1.0]    \n",
    "labels = [\"LOW\", \"MEDIUM\", \"HIGH\"]\n",
    "ser = range(0,7)\n",
    "clusters_features_df\n",
    "\n",
    "for f in list(feature_means_kmeans_reduced[['danceability','valence']]):\n",
    "    feature_df = pd.cut(feature_means_kmeans_reduced[f], bins=bins, labels=labels)\n",
    "    clusters_features_df = pd.concat([clusters_features_df,feature_df], axis=1, join='inner')\n",
    "clusters_features_df"
   ]
  },
  {
   "cell_type": "code",
   "execution_count": 196,
   "id": "1b953656",
   "metadata": {
    "scrolled": true
   },
   "outputs": [
    {
     "data": {
      "text/plain": [
       "True"
      ]
     },
     "execution_count": 196,
     "metadata": {},
     "output_type": "execute_result"
    }
   ],
   "source": [
    "# for use in presentation, to pivot clusters and tracks to listen in spotify\n",
    "pivot_ui(kmeans_df_w_genres[['kmeans_labels', 'genre_group', 'track_id']],outfile_path='pivottablejs.html')\n",
    "webbrowser.open_new_tab('pivottablejs.html')"
   ]
  },
  {
   "cell_type": "markdown",
   "id": "a89bd4ac",
   "metadata": {},
   "source": [
    "### 3.2.1 Cluster 0   <a id=\"3.2.1\"></a>"
   ]
  },
  {
   "cell_type": "code",
   "execution_count": 197,
   "id": "d39af145",
   "metadata": {},
   "outputs": [
    {
     "data": {
      "text/html": [
       "<div>\n",
       "<style scoped>\n",
       "    .dataframe tbody tr th:only-of-type {\n",
       "        vertical-align: middle;\n",
       "    }\n",
       "\n",
       "    .dataframe tbody tr th {\n",
       "        vertical-align: top;\n",
       "    }\n",
       "\n",
       "    .dataframe thead th {\n",
       "        text-align: right;\n",
       "    }\n",
       "</style>\n",
       "<table border=\"1\" class=\"dataframe\">\n",
       "  <thead>\n",
       "    <tr style=\"text-align: right;\">\n",
       "      <th></th>\n",
       "      <th>acousticness</th>\n",
       "      <th>instrumentalness</th>\n",
       "      <th>danceability</th>\n",
       "      <th>valence</th>\n",
       "    </tr>\n",
       "  </thead>\n",
       "  <tbody>\n",
       "    <tr>\n",
       "      <th>0</th>\n",
       "      <td>MEDIUM</td>\n",
       "      <td>LOW</td>\n",
       "      <td>HIGH</td>\n",
       "      <td>HIGH</td>\n",
       "    </tr>\n",
       "  </tbody>\n",
       "</table>\n",
       "</div>"
      ],
      "text/plain": [
       "  acousticness instrumentalness danceability valence\n",
       "0       MEDIUM              LOW         HIGH    HIGH"
      ]
     },
     "execution_count": 197,
     "metadata": {},
     "output_type": "execute_result"
    }
   ],
   "source": [
    "clusters_features_df[clusters_features_df.index == 0]"
   ]
  },
  {
   "cell_type": "code",
   "execution_count": 189,
   "id": "872826a0",
   "metadata": {},
   "outputs": [
    {
     "data": {
      "text/html": [
       "<div>\n",
       "<style scoped>\n",
       "    .dataframe tbody tr th:only-of-type {\n",
       "        vertical-align: middle;\n",
       "    }\n",
       "\n",
       "    .dataframe tbody tr th {\n",
       "        vertical-align: top;\n",
       "    }\n",
       "\n",
       "    .dataframe thead th {\n",
       "        text-align: right;\n",
       "    }\n",
       "</style>\n",
       "<table border=\"1\" class=\"dataframe\">\n",
       "  <thead>\n",
       "    <tr style=\"text-align: right;\">\n",
       "      <th>kmeans_labels</th>\n",
       "      <th>0</th>\n",
       "    </tr>\n",
       "    <tr>\n",
       "      <th>genre_group</th>\n",
       "      <th></th>\n",
       "    </tr>\n",
       "  </thead>\n",
       "  <tbody>\n",
       "    <tr>\n",
       "      <th>rap/hiphop</th>\n",
       "      <td>2634</td>\n",
       "    </tr>\n",
       "    <tr>\n",
       "      <th>rock</th>\n",
       "      <td>2543</td>\n",
       "    </tr>\n",
       "    <tr>\n",
       "      <th>folk</th>\n",
       "      <td>1929</td>\n",
       "    </tr>\n",
       "    <tr>\n",
       "      <th>pop</th>\n",
       "      <td>1896</td>\n",
       "    </tr>\n",
       "    <tr>\n",
       "      <th>hardcore_rock</th>\n",
       "      <td>1643</td>\n",
       "    </tr>\n",
       "    <tr>\n",
       "      <th>caribbean</th>\n",
       "      <td>1642</td>\n",
       "    </tr>\n",
       "    <tr>\n",
       "      <th>latin</th>\n",
       "      <td>1499</td>\n",
       "    </tr>\n",
       "  </tbody>\n",
       "</table>\n",
       "</div>"
      ],
      "text/plain": [
       "kmeans_labels     0\n",
       "genre_group        \n",
       "rap/hiphop     2634\n",
       "rock           2543\n",
       "folk           1929\n",
       "pop            1896\n",
       "hardcore_rock  1643\n",
       "caribbean      1642\n",
       "latin          1499"
      ]
     },
     "execution_count": 189,
     "metadata": {},
     "output_type": "execute_result"
    }
   ],
   "source": [
    "kmeans_df_w_genres_grouped[kmeans_df_w_genres_grouped.index == 0].T.sort_values(0, ascending=False).head(7)"
   ]
  },
  {
   "cell_type": "markdown",
   "id": "cc25ffa9",
   "metadata": {},
   "source": [
    "#### Cluster 0 Description\n",
    "\n",
    "- 'Human' genres profile: mainly rap/hiphop, rock, folk and pop\n",
    "- High danceability and valence (energetic and happy sounding)\n",
    "- These are happy tracks that are danceable and where vocals are a key feature (low instrumentalness)\n",
    "- they sound plugged but may retain some acousticness (medium)\n",
    "\n",
    "Example songs:"
   ]
  },
  {
   "cell_type": "code",
   "execution_count": 204,
   "id": "e9e9e398",
   "metadata": {},
   "outputs": [
    {
     "data": {
      "text/plain": [
       "True"
      ]
     },
     "execution_count": 204,
     "metadata": {},
     "output_type": "execute_result"
    }
   ],
   "source": [
    "# rap/hiphop:\n",
    "webbrowser.open_new_tab('http://open.spotify.com/track/5XzYBtUD8WW5S9LfrL13IQ')"
   ]
  },
  {
   "cell_type": "code",
   "execution_count": 201,
   "id": "90afbffc",
   "metadata": {},
   "outputs": [
    {
     "data": {
      "text/plain": [
       "True"
      ]
     },
     "execution_count": 201,
     "metadata": {},
     "output_type": "execute_result"
    }
   ],
   "source": [
    "# rock:\n",
    "webbrowser.open_new_tab('http://open.spotify.com/track/0L9k4wQpKCER4MqH33vWJd')"
   ]
  },
  {
   "cell_type": "code",
   "execution_count": 51,
   "id": "9a68430b",
   "metadata": {},
   "outputs": [
    {
     "data": {
      "text/plain": [
       "True"
      ]
     },
     "execution_count": 51,
     "metadata": {},
     "output_type": "execute_result"
    }
   ],
   "source": [
    "# folk:\n",
    "webbrowser.open_new_tab('http://open.spotify.com/track/2l913EwGQOhT08wZQwKHCD')"
   ]
  },
  {
   "cell_type": "markdown",
   "id": "55fbdc01",
   "metadata": {},
   "source": [
    "### 3.2.2 Cluster 1  <a id=\"3.2.2\"></a>"
   ]
  },
  {
   "cell_type": "code",
   "execution_count": 198,
   "id": "350312cf",
   "metadata": {
    "scrolled": true
   },
   "outputs": [
    {
     "data": {
      "text/html": [
       "<div>\n",
       "<style scoped>\n",
       "    .dataframe tbody tr th:only-of-type {\n",
       "        vertical-align: middle;\n",
       "    }\n",
       "\n",
       "    .dataframe tbody tr th {\n",
       "        vertical-align: top;\n",
       "    }\n",
       "\n",
       "    .dataframe thead th {\n",
       "        text-align: right;\n",
       "    }\n",
       "</style>\n",
       "<table border=\"1\" class=\"dataframe\">\n",
       "  <thead>\n",
       "    <tr style=\"text-align: right;\">\n",
       "      <th></th>\n",
       "      <th>acousticness</th>\n",
       "      <th>instrumentalness</th>\n",
       "      <th>danceability</th>\n",
       "      <th>valence</th>\n",
       "    </tr>\n",
       "  </thead>\n",
       "  <tbody>\n",
       "    <tr>\n",
       "      <th>1</th>\n",
       "      <td>LOW</td>\n",
       "      <td>MEDIUM</td>\n",
       "      <td>HIGH</td>\n",
       "      <td>HIGH</td>\n",
       "    </tr>\n",
       "  </tbody>\n",
       "</table>\n",
       "</div>"
      ],
      "text/plain": [
       "  acousticness instrumentalness danceability valence\n",
       "1          LOW           MEDIUM         HIGH    HIGH"
      ]
     },
     "execution_count": 198,
     "metadata": {},
     "output_type": "execute_result"
    }
   ],
   "source": [
    "clusters_features_df[clusters_features_df.index == 1]"
   ]
  },
  {
   "cell_type": "code",
   "execution_count": 188,
   "id": "c9bc1c82",
   "metadata": {},
   "outputs": [
    {
     "data": {
      "text/html": [
       "<div>\n",
       "<style scoped>\n",
       "    .dataframe tbody tr th:only-of-type {\n",
       "        vertical-align: middle;\n",
       "    }\n",
       "\n",
       "    .dataframe tbody tr th {\n",
       "        vertical-align: top;\n",
       "    }\n",
       "\n",
       "    .dataframe thead th {\n",
       "        text-align: right;\n",
       "    }\n",
       "</style>\n",
       "<table border=\"1\" class=\"dataframe\">\n",
       "  <thead>\n",
       "    <tr style=\"text-align: right;\">\n",
       "      <th>kmeans_labels</th>\n",
       "      <th>1</th>\n",
       "    </tr>\n",
       "    <tr>\n",
       "      <th>genre_group</th>\n",
       "      <th></th>\n",
       "    </tr>\n",
       "  </thead>\n",
       "  <tbody>\n",
       "    <tr>\n",
       "      <th>rock</th>\n",
       "      <td>6789</td>\n",
       "    </tr>\n",
       "    <tr>\n",
       "      <th>indie</th>\n",
       "      <td>3676</td>\n",
       "    </tr>\n",
       "    <tr>\n",
       "      <th>rap/hiphop</th>\n",
       "      <td>3645</td>\n",
       "    </tr>\n",
       "    <tr>\n",
       "      <th>hardcore_rock</th>\n",
       "      <td>3089</td>\n",
       "    </tr>\n",
       "    <tr>\n",
       "      <th>latin</th>\n",
       "      <td>3061</td>\n",
       "    </tr>\n",
       "    <tr>\n",
       "      <th>dance</th>\n",
       "      <td>2851</td>\n",
       "    </tr>\n",
       "    <tr>\n",
       "      <th>pop</th>\n",
       "      <td>2841</td>\n",
       "    </tr>\n",
       "  </tbody>\n",
       "</table>\n",
       "</div>"
      ],
      "text/plain": [
       "kmeans_labels     1\n",
       "genre_group        \n",
       "rock           6789\n",
       "indie          3676\n",
       "rap/hiphop     3645\n",
       "hardcore_rock  3089\n",
       "latin          3061\n",
       "dance          2851\n",
       "pop            2841"
      ]
     },
     "execution_count": 188,
     "metadata": {},
     "output_type": "execute_result"
    }
   ],
   "source": [
    "kmeans_df_w_genres_grouped[kmeans_df_w_genres_grouped.index == 1].T.sort_values(1, ascending=False).head(7)"
   ]
  },
  {
   "cell_type": "markdown",
   "id": "4f04fa14",
   "metadata": {},
   "source": [
    "#### Cluster 1 Description\n",
    "\n",
    "- 'Human' genres profile: rock, rap/hiphop, indie and latin\n",
    "- High danceability and valence (happy songs to dance to), same as Cluster 0\n",
    "- BUT sound more plugged (Lower acousticness) and higher instrumentalness (less vocal) than Cluster 0\n",
    "- unsurprisingly, most of the EDM, Dance and Electro tracks fall into this Cluster (and Cluster 3)\n",
    "\n",
    "Example songs:"
   ]
  },
  {
   "cell_type": "code",
   "execution_count": 203,
   "id": "42cde025",
   "metadata": {
    "scrolled": true
   },
   "outputs": [
    {
     "data": {
      "text/plain": [
       "True"
      ]
     },
     "execution_count": 203,
     "metadata": {},
     "output_type": "execute_result"
    }
   ],
   "source": [
    "# rock:\n",
    "webbrowser.open_new_tab('http://open.spotify.com/track/1yJkF5R6pjUWjaJBTwYySe')"
   ]
  },
  {
   "cell_type": "code",
   "execution_count": 71,
   "id": "aa5e1020",
   "metadata": {},
   "outputs": [
    {
     "data": {
      "text/plain": [
       "True"
      ]
     },
     "execution_count": 71,
     "metadata": {},
     "output_type": "execute_result"
    }
   ],
   "source": [
    "# indie:\n",
    "webbrowser.open_new_tab('http://open.spotify.com/track/2dVm7zrInA0V0RD9RHCOGZ')"
   ]
  },
  {
   "cell_type": "code",
   "execution_count": 205,
   "id": "d9200bbd",
   "metadata": {},
   "outputs": [
    {
     "data": {
      "text/plain": [
       "True"
      ]
     },
     "execution_count": 205,
     "metadata": {},
     "output_type": "execute_result"
    }
   ],
   "source": [
    "# rap/hiphop:\n",
    "webbrowser.open_new_tab('http://open.spotify.com/track/4LAS8LPhxEJU4ZCIPmgdZN')"
   ]
  },
  {
   "cell_type": "code",
   "execution_count": 72,
   "id": "e9031730",
   "metadata": {},
   "outputs": [
    {
     "data": {
      "text/plain": [
       "True"
      ]
     },
     "execution_count": 72,
     "metadata": {},
     "output_type": "execute_result"
    }
   ],
   "source": [
    "# latin:\n",
    "webbrowser.open_new_tab('http://open.spotify.com/track/3SgTm2eBByF3vdh5G6HDrH')"
   ]
  },
  {
   "cell_type": "markdown",
   "id": "66f51333",
   "metadata": {},
   "source": [
    "### 3.2.3 Cluster 2  <a id=\"3.2.3\"></a>"
   ]
  },
  {
   "cell_type": "code",
   "execution_count": 199,
   "id": "d79cdde0",
   "metadata": {
    "scrolled": true
   },
   "outputs": [
    {
     "data": {
      "text/html": [
       "<div>\n",
       "<style scoped>\n",
       "    .dataframe tbody tr th:only-of-type {\n",
       "        vertical-align: middle;\n",
       "    }\n",
       "\n",
       "    .dataframe tbody tr th {\n",
       "        vertical-align: top;\n",
       "    }\n",
       "\n",
       "    .dataframe thead th {\n",
       "        text-align: right;\n",
       "    }\n",
       "</style>\n",
       "<table border=\"1\" class=\"dataframe\">\n",
       "  <thead>\n",
       "    <tr style=\"text-align: right;\">\n",
       "      <th></th>\n",
       "      <th>acousticness</th>\n",
       "      <th>instrumentalness</th>\n",
       "      <th>danceability</th>\n",
       "      <th>valence</th>\n",
       "    </tr>\n",
       "  </thead>\n",
       "  <tbody>\n",
       "    <tr>\n",
       "      <th>2</th>\n",
       "      <td>HIGH</td>\n",
       "      <td>MEDIUM</td>\n",
       "      <td>LOW</td>\n",
       "      <td>LOW</td>\n",
       "    </tr>\n",
       "  </tbody>\n",
       "</table>\n",
       "</div>"
      ],
      "text/plain": [
       "  acousticness instrumentalness danceability valence\n",
       "2         HIGH           MEDIUM          LOW     LOW"
      ]
     },
     "execution_count": 199,
     "metadata": {},
     "output_type": "execute_result"
    }
   ],
   "source": [
    "clusters_features_df[clusters_features_df.index == 2]"
   ]
  },
  {
   "cell_type": "code",
   "execution_count": 190,
   "id": "3678ef29",
   "metadata": {},
   "outputs": [
    {
     "data": {
      "text/html": [
       "<div>\n",
       "<style scoped>\n",
       "    .dataframe tbody tr th:only-of-type {\n",
       "        vertical-align: middle;\n",
       "    }\n",
       "\n",
       "    .dataframe tbody tr th {\n",
       "        vertical-align: top;\n",
       "    }\n",
       "\n",
       "    .dataframe thead th {\n",
       "        text-align: right;\n",
       "    }\n",
       "</style>\n",
       "<table border=\"1\" class=\"dataframe\">\n",
       "  <thead>\n",
       "    <tr style=\"text-align: right;\">\n",
       "      <th>kmeans_labels</th>\n",
       "      <th>2</th>\n",
       "    </tr>\n",
       "    <tr>\n",
       "      <th>genre_group</th>\n",
       "      <th></th>\n",
       "    </tr>\n",
       "  </thead>\n",
       "  <tbody>\n",
       "    <tr>\n",
       "      <th>classical</th>\n",
       "      <td>9798</td>\n",
       "    </tr>\n",
       "    <tr>\n",
       "      <th>jazz</th>\n",
       "      <td>2910</td>\n",
       "    </tr>\n",
       "    <tr>\n",
       "      <th>folk</th>\n",
       "      <td>2590</td>\n",
       "    </tr>\n",
       "    <tr>\n",
       "      <th>rock</th>\n",
       "      <td>1455</td>\n",
       "    </tr>\n",
       "    <tr>\n",
       "      <th>indie</th>\n",
       "      <td>1260</td>\n",
       "    </tr>\n",
       "    <tr>\n",
       "      <th>pop</th>\n",
       "      <td>1201</td>\n",
       "    </tr>\n",
       "  </tbody>\n",
       "</table>\n",
       "</div>"
      ],
      "text/plain": [
       "kmeans_labels     2\n",
       "genre_group        \n",
       "classical      9798\n",
       "jazz           2910\n",
       "folk           2590\n",
       "rock           1455\n",
       "indie          1260\n",
       "pop            1201"
      ]
     },
     "execution_count": 190,
     "metadata": {},
     "output_type": "execute_result"
    }
   ],
   "source": [
    "kmeans_df_w_genres_grouped[kmeans_df_w_genres_grouped.index == 2].T.sort_values(2, ascending=False).head(6)"
   ]
  },
  {
   "cell_type": "markdown",
   "id": "7b4cb505",
   "metadata": {},
   "source": [
    "#### Cluster 2 Description\n",
    "\n",
    "- 'Human' genres profile: classical, jazz, folk\n",
    "- Low danceability and valence (more moddy and sombre than clusters 0 and 1)\n",
    "- high acousticness (sound less plugged)\n",
    "\n",
    "Example songs:"
   ]
  },
  {
   "cell_type": "code",
   "execution_count": 76,
   "id": "ba35ea1d",
   "metadata": {},
   "outputs": [
    {
     "data": {
      "text/plain": [
       "True"
      ]
     },
     "execution_count": 76,
     "metadata": {},
     "output_type": "execute_result"
    }
   ],
   "source": [
    "# classical:\n",
    "webbrowser.open_new_tab('http://open.spotify.com/track/0zoqG48Lr338BxBHm46Rjg')"
   ]
  },
  {
   "cell_type": "code",
   "execution_count": 77,
   "id": "2687a59d",
   "metadata": {},
   "outputs": [
    {
     "data": {
      "text/plain": [
       "True"
      ]
     },
     "execution_count": 77,
     "metadata": {},
     "output_type": "execute_result"
    }
   ],
   "source": [
    "# jazz:\n",
    "webbrowser.open_new_tab('http://open.spotify.com/track/2nrcTS39YW440mZy4Btbkj')"
   ]
  },
  {
   "cell_type": "code",
   "execution_count": 78,
   "id": "e71ea99e",
   "metadata": {},
   "outputs": [
    {
     "data": {
      "text/plain": [
       "True"
      ]
     },
     "execution_count": 78,
     "metadata": {},
     "output_type": "execute_result"
    }
   ],
   "source": [
    "# folk:\n",
    "webbrowser.open_new_tab('http://open.spotify.com/track/73FjZmy9Abj8rTVTQzXDrn')"
   ]
  },
  {
   "cell_type": "markdown",
   "id": "166cc6f1",
   "metadata": {},
   "source": [
    "### 3.2.4 Cluster 3  <a id=\"3.2.4\"></a>"
   ]
  },
  {
   "cell_type": "code",
   "execution_count": 200,
   "id": "5eafbf46",
   "metadata": {
    "scrolled": true
   },
   "outputs": [
    {
     "data": {
      "text/html": [
       "<div>\n",
       "<style scoped>\n",
       "    .dataframe tbody tr th:only-of-type {\n",
       "        vertical-align: middle;\n",
       "    }\n",
       "\n",
       "    .dataframe tbody tr th {\n",
       "        vertical-align: top;\n",
       "    }\n",
       "\n",
       "    .dataframe thead th {\n",
       "        text-align: right;\n",
       "    }\n",
       "</style>\n",
       "<table border=\"1\" class=\"dataframe\">\n",
       "  <thead>\n",
       "    <tr style=\"text-align: right;\">\n",
       "      <th></th>\n",
       "      <th>acousticness</th>\n",
       "      <th>instrumentalness</th>\n",
       "      <th>danceability</th>\n",
       "      <th>valence</th>\n",
       "    </tr>\n",
       "  </thead>\n",
       "  <tbody>\n",
       "    <tr>\n",
       "      <th>3</th>\n",
       "      <td>MEDIUM</td>\n",
       "      <td>HIGH</td>\n",
       "      <td>MEDIUM</td>\n",
       "      <td>LOW</td>\n",
       "    </tr>\n",
       "  </tbody>\n",
       "</table>\n",
       "</div>"
      ],
      "text/plain": [
       "  acousticness instrumentalness danceability valence\n",
       "3       MEDIUM             HIGH       MEDIUM     LOW"
      ]
     },
     "execution_count": 200,
     "metadata": {},
     "output_type": "execute_result"
    }
   ],
   "source": [
    "clusters_features_df[clusters_features_df.index == 3]"
   ]
  },
  {
   "cell_type": "code",
   "execution_count": 192,
   "id": "6499e224",
   "metadata": {},
   "outputs": [
    {
     "data": {
      "text/html": [
       "<div>\n",
       "<style scoped>\n",
       "    .dataframe tbody tr th:only-of-type {\n",
       "        vertical-align: middle;\n",
       "    }\n",
       "\n",
       "    .dataframe tbody tr th {\n",
       "        vertical-align: top;\n",
       "    }\n",
       "\n",
       "    .dataframe thead th {\n",
       "        text-align: right;\n",
       "    }\n",
       "</style>\n",
       "<table border=\"1\" class=\"dataframe\">\n",
       "  <thead>\n",
       "    <tr style=\"text-align: right;\">\n",
       "      <th>kmeans_labels</th>\n",
       "      <th>3</th>\n",
       "    </tr>\n",
       "    <tr>\n",
       "      <th>genre_group</th>\n",
       "      <th></th>\n",
       "    </tr>\n",
       "  </thead>\n",
       "  <tbody>\n",
       "    <tr>\n",
       "      <th>classical</th>\n",
       "      <td>3306</td>\n",
       "    </tr>\n",
       "    <tr>\n",
       "      <th>edm</th>\n",
       "      <td>1783</td>\n",
       "    </tr>\n",
       "    <tr>\n",
       "      <th>jazz</th>\n",
       "      <td>1492</td>\n",
       "    </tr>\n",
       "    <tr>\n",
       "      <th>dance</th>\n",
       "      <td>1473</td>\n",
       "    </tr>\n",
       "    <tr>\n",
       "      <th>electro</th>\n",
       "      <td>1039</td>\n",
       "    </tr>\n",
       "  </tbody>\n",
       "</table>\n",
       "</div>"
      ],
      "text/plain": [
       "kmeans_labels     3\n",
       "genre_group        \n",
       "classical      3306\n",
       "edm            1783\n",
       "jazz           1492\n",
       "dance          1473\n",
       "electro        1039"
      ]
     },
     "execution_count": 192,
     "metadata": {},
     "output_type": "execute_result"
    }
   ],
   "source": [
    "kmeans_df_w_genres_grouped[kmeans_df_w_genres_grouped.index == 3].T.sort_values(3, ascending=False).head(5)"
   ]
  },
  {
   "cell_type": "markdown",
   "id": "b64fe1a7",
   "metadata": {},
   "source": [
    "#### Cluster 3 Description\n",
    "\n",
    "- 'Human' genres profile: classical, edm, jazz, dance, electro\n",
    "- somewhat plugged, highly instrumental but moody sounding\n",
    "\n",
    "Example songs:"
   ]
  },
  {
   "cell_type": "code",
   "execution_count": 83,
   "id": "e7b78a54",
   "metadata": {},
   "outputs": [
    {
     "data": {
      "text/plain": [
       "True"
      ]
     },
     "execution_count": 83,
     "metadata": {},
     "output_type": "execute_result"
    }
   ],
   "source": [
    "# classical:\n",
    "webbrowser.open_new_tab('http://open.spotify.com/track/5zKN05WUUcCVTg14hghwjv')"
   ]
  },
  {
   "cell_type": "code",
   "execution_count": 84,
   "id": "9c8939f4",
   "metadata": {
    "scrolled": true
   },
   "outputs": [
    {
     "data": {
      "text/plain": [
       "True"
      ]
     },
     "execution_count": 84,
     "metadata": {},
     "output_type": "execute_result"
    }
   ],
   "source": [
    "# edm:\n",
    "webbrowser.open_new_tab('http://open.spotify.com/track/4ybPUs477Vq8ZdQeYVEZfF')"
   ]
  },
  {
   "cell_type": "markdown",
   "id": "0a290451",
   "metadata": {},
   "source": [
    "### 4. Conclusion  <a id=\"4\"></a>\n",
    "\n",
    "The key takeaways from our unsupervised clustering model are:\n",
    "\n",
    "1. 4 features are important in determining song clusters: acousticness, danceability, instrumentalness and valence\n",
    "\n",
    "\n",
    "2. We could have run the KMeans model with higher n_clusters (5 or 6) but there would likely have been lots of similarities in the other 2 clusters 2 of those seen above. It would be interesting to see if running that would yield similar results in terms of songs and cluster feature profiles (i.e. see if the clusters combine in the same way as above).\n",
    "\n",
    "\n",
    "3. The 4 cluster song groups can be described conceptually as follows:\n",
    "\n",
    "<img src=\"../images/cluster_groups_final.png\" width=\"1000\" height=\"1000\">\n",
    "\n",
    "**Note that the 'human' genre indications are INDICATIVE of the cluster group - they do not define the cluster group - giving those genres is only for the purposes of establishing familiarity for the reader - indeed it is important to focus more on the descriptions and bear in mind that a sombre/ moody rap/hiphop or pop track would fall into cluster 0 or 2, depending on how vocal it is.**"
   ]
  }
 ],
 "metadata": {
  "kernelspec": {
   "display_name": "Python 3 (ipykernel)",
   "language": "python",
   "name": "python3"
  },
  "language_info": {
   "codemirror_mode": {
    "name": "ipython",
    "version": 3
   },
   "file_extension": ".py",
   "mimetype": "text/x-python",
   "name": "python",
   "nbconvert_exporter": "python",
   "pygments_lexer": "ipython3",
   "version": "3.9.7"
  }
 },
 "nbformat": 4,
 "nbformat_minor": 5
}
