{
 "cells": [
  {
   "cell_type": "code",
   "execution_count": 10,
   "metadata": {},
   "outputs": [],
   "source": [
    "import requests\n",
    "from bs4 import BeautifulSoup as bs \n",
    "import pandas as pd\n",
    "import numpy as np\n",
    "import time\n",
    "from selenium import webdriver"
   ]
  },
  {
   "cell_type": "code",
   "execution_count": 18,
   "metadata": {},
   "outputs": [],
   "source": [
    "def selenium_scrape_save(url, file_path):\n",
    "    driver = webdriver.Chrome(executable_path=\"/Users/smgar/chromedriver\")\n",
    "    driver.get(url)\n",
    "    driver.execute_script(\"window.scrollTo(1,10000)\")\n",
    "    time.sleep(2)\n",
    "    \n",
    "    html = driver.page_source\n",
    "    with open(file_path, 'w+', encoding=\"utf-8\") as f:\n",
    "            f.write(html)"
   ]
  },
  {
   "cell_type": "code",
   "execution_count": 12,
   "metadata": {},
   "outputs": [],
   "source": [
    "years = list(range(2021,2023))\n",
    "months = ['01', '02', '03', '04', '05', '06', '07', '08', '09', '10', '11', '12']"
   ]
  },
  {
   "cell_type": "code",
   "execution_count": 15,
   "metadata": {},
   "outputs": [
    {
     "name": "stderr",
     "output_type": "stream",
     "text": [
      "C:\\Users\\smgar\\AppData\\Local\\Temp/ipykernel_15368/1149867427.py:2: DeprecationWarning: executable_path has been deprecated, please pass in a Service object\n",
      "  driver = webdriver.Chrome(executable_path=\"/Users/smgar/chromedriver\")\n"
     ]
    }
   ],
   "source": [
    "for year in years:\n",
    "    for month in months:\n",
    "        bored_apes_sales_monthly = 'https://cryptoslam.io/bored-ape-yacht-club/sales/summary/?month={}-{}'\n",
    "        url = bored_apes_sales_monthly.format(year,month)\n",
    "        file_path = \"data/{}-{}.html\".format(year,month)\n",
    "        selenium_scrape_save(url, file_path)"
   ]
  },
  {
   "cell_type": "code",
   "execution_count": 26,
   "metadata": {},
   "outputs": [
    {
     "name": "stderr",
     "output_type": "stream",
     "text": [
      "C:\\Users\\smgar\\AppData\\Local\\Temp/ipykernel_15368/2571084309.py:2: DeprecationWarning: executable_path has been deprecated, please pass in a Service object\n",
      "  driver = webdriver.Chrome(executable_path=\"/Users/smgar/chromedriver\")\n"
     ]
    }
   ],
   "source": [
    "bored_apes_activity = 'https://cryptoslam.io/bored-ape-yacht-club#activity'\n",
    "url = bored_apes_activity\n",
    "file_path = \"data/bored_apes_activity.html\"\n",
    "selenium_scrape_save(url, file_path)"
   ]
  },
  {
   "cell_type": "code",
   "execution_count": 8,
   "metadata": {},
   "outputs": [
    {
     "name": "stderr",
     "output_type": "stream",
     "text": [
      "C:\\Users\\smgar\\AppData\\Local\\Temp/ipykernel_15368/1295254325.py:2: DeprecationWarning: executable_path has been deprecated, please pass in a Service object\n",
      "  driver = webdriver.Chrome(executable_path=\"/Users/smgar/chromedriver\")\n"
     ]
    }
   ],
   "source": [
    "https://cryptoslam.io/bored-ape-yacht-club#rarity\n",
    "https://cryptoslam.io/bored-ape-yacht-club#rarity\n",
    "https://cryptoslam.io/bored-ape-yacht-club#sales-rankings-24h\n",
    "year = 2021\n",
    "month = '04'\n",
    "https://cryptoslam.io/bored-ape-yacht-club#activity"
   ]
  },
  {
   "cell_type": "code",
   "execution_count": 9,
   "metadata": {},
   "outputs": [],
   "source": [
    "html = driver.page_source\n",
    "with open(\"data/{}-{}.html\".format(year,month), 'w+', encoding=\"utf-8\") as f:\n",
    "            f.write(html)"
   ]
  }
 ],
 "metadata": {
  "kernelspec": {
   "display_name": "Python 3 (ipykernel)",
   "language": "python",
   "name": "python3"
  },
  "language_info": {
   "codemirror_mode": {
    "name": "ipython",
    "version": 3
   },
   "file_extension": ".py",
   "mimetype": "text/x-python",
   "name": "python",
   "nbconvert_exporter": "python",
   "pygments_lexer": "ipython3",
   "version": "3.9.7"
  },
  "vscode": {
   "interpreter": {
    "hash": "978e567bf752cd301f79adcf14c6c94b502b39b8df9a69261ba83a026795a1d5"
   }
  }
 },
 "nbformat": 4,
 "nbformat_minor": 2
}
