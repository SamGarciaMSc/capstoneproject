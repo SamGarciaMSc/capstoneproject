{
 "cells": [
  {
   "cell_type": "markdown",
   "id": "4877aed8",
   "metadata": {},
   "source": [
    "# Supervised and Unsupervised Learning Algorithms for Genre Classification and Song Popularity\n",
    "\n",
    "**<span style=\"color:CornflowerBlue\">by Samantha Garcia, Brainstation Data Science Student (May - August 2022) </span>**"
   ]
  },
  {
   "cell_type": "markdown",
   "id": "21324aad",
   "metadata": {},
   "source": [
    "## Notebook 6.d.: Appendix Notebook - Aborted Spotify API Data - Diversifying Genres\n",
    "\n",
    "### Table of Contents\n",
    "\n",
    "    [1. Recap](#introduction)\n",
    "        1.1 Need to Diversify Genres\n",
    "        1.2 Spotify API\n",
    "        1.3 Details of New Dataset\n",
    "    \n",
    "    [2. Cleaning New Dataset]\n",
    "        [2.1 ](#datasource)\n",
    "        [2.2 ](#)\n",
    "        [2.3 ](#)\n",
    "    \n",
    "    [3. Combining New Dataset](#data)\n",
    "        [3.1 ](#)\n",
    "        [3.2 ](#)\n",
    "\n",
    "    [4. Revised Features Distributions Analysis by Genre]\n",
    "        [4.1 ](#)\n",
    "        [4.2 ](#)\n",
    "        [4.3 ](#)\n",
    "---     "
   ]
  },
  {
   "cell_type": "markdown",
   "id": "9ec18bcd",
   "metadata": {},
   "source": [
    "## 1. Recap\n",
    "\n",
    "### 1.1 Need to Diversify Genres\n",
    "\n",
    "\n",
    "\n",
    "---"
   ]
  },
  {
   "cell_type": "code",
   "execution_count": 4,
   "id": "555f6f5f",
   "metadata": {},
   "outputs": [],
   "source": [
    "import spotipy as sp\n",
    "import pandas as pd\n",
    "from spotipy.oauth2 import SpotifyClientCredentials\n",
    "from spotipy.oauth2 import SpotifyOAuth\n",
    "import requests"
   ]
  },
  {
   "cell_type": "code",
   "execution_count": 5,
   "id": "de7633ee",
   "metadata": {},
   "outputs": [],
   "source": [
    "cid = 'cab8bc9b3df04a4a9c8a1575f006e380'\n",
    "secret = '2ae1f236ebf64ea8bcbb90f563e0de45'\n",
    "client_credentials_manager = SpotifyClientCredentials(client_id=cid, client_secret=secret)\n",
    "sp = sp.Spotify(client_credentials_manager = client_credentials_manager)"
   ]
  },
  {
   "cell_type": "code",
   "execution_count": null,
   "id": "0f276917",
   "metadata": {},
   "outputs": [],
   "source": []
  },
  {
   "cell_type": "code",
   "execution_count": 6,
   "id": "dab0079e",
   "metadata": {},
   "outputs": [],
   "source": [
    "artist_name = []\n",
    "track_name = []\n",
    "track_id = []\n",
    "for i in range(0,900,50):\n",
    "    track_results = sp.search(q='genre:ska', type='track', limit=50,offset=i)\n",
    "    for i, t in enumerate(track_results['tracks']['items']):\n",
    "        artist_name.append(t['artists'][0]['name'])\n",
    "        track_name.append(t['name'])\n",
    "        track_id.append(t['id'])"
   ]
  },
  {
   "cell_type": "code",
   "execution_count": 141,
   "id": "ccb3b00c",
   "metadata": {},
   "outputs": [
    {
     "name": "stdout",
     "output_type": "stream",
     "text": [
      "(900, 3)\n"
     ]
    },
    {
     "data": {
      "text/html": [
       "<div>\n",
       "<style scoped>\n",
       "    .dataframe tbody tr th:only-of-type {\n",
       "        vertical-align: middle;\n",
       "    }\n",
       "\n",
       "    .dataframe tbody tr th {\n",
       "        vertical-align: top;\n",
       "    }\n",
       "\n",
       "    .dataframe thead th {\n",
       "        text-align: right;\n",
       "    }\n",
       "</style>\n",
       "<table border=\"1\" class=\"dataframe\">\n",
       "  <thead>\n",
       "    <tr style=\"text-align: right;\">\n",
       "      <th></th>\n",
       "      <th>artist_name</th>\n",
       "      <th>track_name</th>\n",
       "      <th>track_id</th>\n",
       "    </tr>\n",
       "  </thead>\n",
       "  <tbody>\n",
       "    <tr>\n",
       "      <th>0</th>\n",
       "      <td>Sublime</td>\n",
       "      <td>Santeria</td>\n",
       "      <td>2hnMS47jN0etwvFPzYk11f</td>\n",
       "    </tr>\n",
       "    <tr>\n",
       "      <th>1</th>\n",
       "      <td>Sublime</td>\n",
       "      <td>What I Got</td>\n",
       "      <td>3B4q6KbHbGV51HO3GznBFF</td>\n",
       "    </tr>\n",
       "    <tr>\n",
       "      <th>2</th>\n",
       "      <td>The Offspring</td>\n",
       "      <td>You're Gonna Go Far, Kid</td>\n",
       "      <td>6TfBA04WJ3X1d1wXhaCFVT</td>\n",
       "    </tr>\n",
       "    <tr>\n",
       "      <th>3</th>\n",
       "      <td>The Offspring</td>\n",
       "      <td>Self Esteem</td>\n",
       "      <td>1FkoVC85Ds3mFoK0fVqEqP</td>\n",
       "    </tr>\n",
       "    <tr>\n",
       "      <th>4</th>\n",
       "      <td>Sublime</td>\n",
       "      <td>Doin' Time</td>\n",
       "      <td>4eamJr2k9YDH8j58RSTmSc</td>\n",
       "    </tr>\n",
       "    <tr>\n",
       "      <th>...</th>\n",
       "      <td>...</td>\n",
       "      <td>...</td>\n",
       "      <td>...</td>\n",
       "    </tr>\n",
       "    <tr>\n",
       "      <th>895</th>\n",
       "      <td>Streetlight Manifesto</td>\n",
       "      <td>With Any Sort of Certainty</td>\n",
       "      <td>1BvxAu9idgTJ4WSzn7dF2e</td>\n",
       "    </tr>\n",
       "    <tr>\n",
       "      <th>896</th>\n",
       "      <td>Streetlight Manifesto</td>\n",
       "      <td>That'll Be the Day</td>\n",
       "      <td>1rpOcfqocQCdMm7GGE6PWH</td>\n",
       "    </tr>\n",
       "    <tr>\n",
       "      <th>897</th>\n",
       "      <td>The Offspring</td>\n",
       "      <td>The Kids Aren't Alright</td>\n",
       "      <td>03C3S4osOdKqWUGA8VBJQ8</td>\n",
       "    </tr>\n",
       "    <tr>\n",
       "      <th>898</th>\n",
       "      <td>Night Gaunts</td>\n",
       "      <td>Post Party Depression</td>\n",
       "      <td>5CEtbC9Ro1Mr5uCrFOU3Co</td>\n",
       "    </tr>\n",
       "    <tr>\n",
       "      <th>899</th>\n",
       "      <td>The Vandals</td>\n",
       "      <td>An Idea For A Movie</td>\n",
       "      <td>32tWDn75pSPuefjz50Mek3</td>\n",
       "    </tr>\n",
       "  </tbody>\n",
       "</table>\n",
       "<p>900 rows × 3 columns</p>\n",
       "</div>"
      ],
      "text/plain": [
       "               artist_name                  track_name                track_id\n",
       "0                  Sublime                    Santeria  2hnMS47jN0etwvFPzYk11f\n",
       "1                  Sublime                  What I Got  3B4q6KbHbGV51HO3GznBFF\n",
       "2            The Offspring    You're Gonna Go Far, Kid  6TfBA04WJ3X1d1wXhaCFVT\n",
       "3            The Offspring                 Self Esteem  1FkoVC85Ds3mFoK0fVqEqP\n",
       "4                  Sublime                  Doin' Time  4eamJr2k9YDH8j58RSTmSc\n",
       "..                     ...                         ...                     ...\n",
       "895  Streetlight Manifesto  With Any Sort of Certainty  1BvxAu9idgTJ4WSzn7dF2e\n",
       "896  Streetlight Manifesto          That'll Be the Day  1rpOcfqocQCdMm7GGE6PWH\n",
       "897          The Offspring     The Kids Aren't Alright  03C3S4osOdKqWUGA8VBJQ8\n",
       "898           Night Gaunts       Post Party Depression  5CEtbC9Ro1Mr5uCrFOU3Co\n",
       "899            The Vandals         An Idea For A Movie  32tWDn75pSPuefjz50Mek3\n",
       "\n",
       "[900 rows x 3 columns]"
      ]
     },
     "execution_count": 141,
     "metadata": {},
     "output_type": "execute_result"
    }
   ],
   "source": [
    "ska_df = pd.DataFrame({'artist_name' : artist_name, 'track_name' : track_name, 'track_id' : track_id})\n",
    "print(ska_df.shape)\n",
    "ska_df"
   ]
  },
  {
   "cell_type": "code",
   "execution_count": 142,
   "id": "69e4e1f6",
   "metadata": {},
   "outputs": [],
   "source": [
    "ska_df.to_csv('../data/ska_df.csv')"
   ]
  },
  {
   "cell_type": "code",
   "execution_count": null,
   "id": "348c90b7",
   "metadata": {},
   "outputs": [],
   "source": []
  }
 ],
 "metadata": {
  "kernelspec": {
   "display_name": "Python 3 (ipykernel)",
   "language": "python",
   "name": "python3"
  },
  "language_info": {
   "codemirror_mode": {
    "name": "ipython",
    "version": 3
   },
   "file_extension": ".py",
   "mimetype": "text/x-python",
   "name": "python",
   "nbconvert_exporter": "python",
   "pygments_lexer": "ipython3",
   "version": "3.9.7"
  }
 },
 "nbformat": 4,
 "nbformat_minor": 5
}
