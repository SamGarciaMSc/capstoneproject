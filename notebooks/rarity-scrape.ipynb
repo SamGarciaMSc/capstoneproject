{
 "cells": [
  {
   "cell_type": "code",
   "execution_count": 1,
   "metadata": {},
   "outputs": [],
   "source": [
    "# Standard imports\n",
    "import numpy as np\n",
    "import pandas as pd\n",
    "\n",
    "# For web scraping\n",
    "import requests\n",
    "from bs4 import BeautifulSoup\n",
    "\n",
    "# For performing regex operations\n",
    "import re\n",
    "\n",
    "# For adding delays so that we don't spam requests\n",
    "import time"
   ]
  },
  {
   "cell_type": "code",
   "execution_count": 15,
   "metadata": {},
   "outputs": [],
   "source": [
    "# Save the URL of the webpage we want to scrape to a variable\n",
    "url = 'https://rarity.tools/boredapeyachtclub/view/7495'"
   ]
  },
  {
   "cell_type": "code",
   "execution_count": 16,
   "metadata": {},
   "outputs": [],
   "source": [
    "# Send a get request and assign the response to a variable\n",
    "response = requests.get(url)"
   ]
  },
  {
   "cell_type": "code",
   "execution_count": 17,
   "metadata": {},
   "outputs": [
    {
     "name": "stdout",
     "output_type": "stream",
     "text": [
      "<!DOCTYPE html>\n",
      "<html data-n-head=\"%7B%22lang%22:%7B%221%22:%22en%22%7D%7D\" lang=\"en\">\n",
      " <head>\n",
      "  <title>\n",
      "   rarity.tools\n",
      "  </title>\n",
      "  <meta charset=\"utf-8\" data-n-head=\"1\"/>\n",
      "  <meta content=\"width=device-width,initial-scale=1\" data-n-head=\"1\" name=\"viewport\"/>\n",
      "  <meta content=\"NFTs ranked and sorted by rarity. See the rarest CryptoPunks, Bored Ape Yacht Club, Hashmasks, Gutter Cat Gang and many more NFT collections.\" data-hid=\"description\" data-n-head=\"1\" name=\"description\"/>\n",
      "  <meta content=\"d1beade5d331af50ccff476e3be587a0\" data-n-head=\"1\" name=\"coinzilla\"/>\n",
      "  <link data-n-head=\"1\" href=\"/favicon.ico\" rel=\"icon\" type=\"image/x-icon\"/>\n",
      "  <script data-n-head=\"1\" defer=\"\" src=\"https://www.googletagmanager.com/gtag/js?id=G-3X9WY5Z1T6\">\n",
      "  </script>\n",
      "  <script data-n-head=\"1\" defer=\"\" src=\"/gtag.js\">\n",
      "  </script>\n",
      "  <link as=\"script\" href=\"/_nuxt/437be8d.js\" rel=\"preload\"/>\n",
      "  <link as=\"script\" href=\"/_nuxt/306a444.js\" rel=\"preload\"/>\n",
      "  <link as=\"script\" href=\"/_nuxt/f73f204.js\" rel=\"preload\"/>\n",
      "  <link as=\"script\" href=\"/_nuxt/fafd36c.js\" rel=\"preload\"/>\n",
      " </head>\n",
      " <body>\n",
      "  <script data-hid=\"nuxt-color-mode-script\" data-n-head=\"1\" data-pbody=\"true\">\n",
      "   !function(){\"use strict\";var t=window,e=document,s=e.documentElement,a=[\"dark\",\"light\"],o=window.localStorage.getItem(\"nuxt-color-mode\")||\"system\",c=\"system\"===o?n():o,e=e.body.getAttribute(\"data-color-mode-forced\");function r(e){e=\"\"+e;s.classList?s.classList.add(e):s.className+=\" \"+e}function l(e){return t.matchMedia(\"(prefers-color-scheme\"+e+\")\")}function n(){if(t.matchMedia&&\"not all\"!==l(\"\").media)for(var e of a)if(l(\":\"+e).matches)return e;return\"light\"}r(c=e?e:c),t.__NUXT_COLOR_MODE__={preference:o,value:c,getColorScheme:n,addClass:r,removeClass:function(e){e=\"\"+e;s.classList?s.classList.remove(e):s.className=s.className.replace(new RegExp(e,\"g\"),\"\")}}}()\n",
      "  </script>\n",
      "  <div id=\"__nuxt\">\n",
      "   <style>\n",
      "    #nuxt-loading{background:#fff;visibility:hidden;opacity:0;position:absolute;left:0;right:0;top:0;bottom:0;display:flex;justify-content:center;align-items:center;flex-direction:column;animation:nuxtLoadingIn 10s ease;-webkit-animation:nuxtLoadingIn 10s ease;animation-fill-mode:forwards;overflow:hidden}@keyframes nuxtLoadingIn{0%{visibility:hidden;opacity:0}20%{visibility:visible;opacity:0}100%{visibility:visible;opacity:1}}@-webkit-keyframes nuxtLoadingIn{0%{visibility:hidden;opacity:0}20%{visibility:visible;opacity:0}100%{visibility:visible;opacity:1}}#nuxt-loading>div,#nuxt-loading>div:after{border-radius:50%;width:5rem;height:5rem}#nuxt-loading>div{font-size:10px;position:relative;text-indent:-9999em;border:.5rem solid #f5f5f5;border-left:.5rem solid #000;-webkit-transform:translateZ(0);-ms-transform:translateZ(0);transform:translateZ(0);-webkit-animation:nuxtLoading 1.1s infinite linear;animation:nuxtLoading 1.1s infinite linear}#nuxt-loading.error>div{border-left:.5rem solid #ff4500;animation-duration:5s}@-webkit-keyframes nuxtLoading{0%{-webkit-transform:rotate(0);transform:rotate(0)}100%{-webkit-transform:rotate(360deg);transform:rotate(360deg)}}@keyframes nuxtLoading{0%{-webkit-transform:rotate(0);transform:rotate(0)}100%{-webkit-transform:rotate(360deg);transform:rotate(360deg)}}\n",
      "   </style>\n",
      "   <script>\n",
      "    window.addEventListener(\"error\",function(){var e=document.getElementById(\"nuxt-loading\");e&&(e.className+=\" error\")})\n",
      "   </script>\n",
      "   <div aria-live=\"polite\" id=\"nuxt-loading\" role=\"status\">\n",
      "    <div>\n",
      "     Loading...\n",
      "    </div>\n",
      "   </div>\n",
      "  </div>\n",
      "  <script>\n",
      "   window.__NUXT__={config:{_app:{basePath:\"/\",assetsPath:\"/_nuxt/\",cdnURL:null}}}\n",
      "  </script>\n",
      "  <script src=\"/_nuxt/437be8d.js\">\n",
      "  </script>\n",
      "  <script src=\"/_nuxt/306a444.js\">\n",
      "  </script>\n",
      "  <script src=\"/_nuxt/f73f204.js\">\n",
      "  </script>\n",
      "  <script src=\"/_nuxt/fafd36c.js\">\n",
      "  </script>\n",
      " </body>\n",
      "</html>\n",
      "\n"
     ]
    }
   ],
   "source": [
    "# execute 'content' function \n",
    "response.content\n",
    "soup = BeautifulSoup(response.content)\n",
    "print(soup.prettify())"
   ]
  },
  {
   "cell_type": "code",
   "execution_count": null,
   "metadata": {},
   "outputs": [],
   "source": []
  }
 ],
 "metadata": {
  "kernelspec": {
   "display_name": "Python 3.8.13 ('capstone')",
   "language": "python",
   "name": "python3"
  },
  "language_info": {
   "codemirror_mode": {
    "name": "ipython",
    "version": 3
   },
   "file_extension": ".py",
   "mimetype": "text/x-python",
   "name": "python",
   "nbconvert_exporter": "python",
   "pygments_lexer": "ipython3",
   "version": "3.8.13"
  },
  "orig_nbformat": 4,
  "vscode": {
   "interpreter": {
    "hash": "978e567bf752cd301f79adcf14c6c94b502b39b8df9a69261ba83a026795a1d5"
   }
  }
 },
 "nbformat": 4,
 "nbformat_minor": 2
}
